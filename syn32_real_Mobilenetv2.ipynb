{
  "nbformat": 4,
  "nbformat_minor": 0,
  "metadata": {
    "colab": {
      "provenance": [],
      "authorship_tag": "ABX9TyM2AqvZGXN7BiiL4xwzG0pa",
      "include_colab_link": true
    },
    "kernelspec": {
      "name": "python3",
      "display_name": "Python 3"
    },
    "language_info": {
      "name": "python"
    }
  },
  "cells": [
    {
      "cell_type": "markdown",
      "metadata": {
        "id": "view-in-github",
        "colab_type": "text"
      },
      "source": [
        "<a href=\"https://colab.research.google.com/github/Htets-Corner/SYNTHBUSTER_RAISE-1k/blob/main/syn32_real_Mobilenetv2.ipynb\" target=\"_parent\"><img src=\"https://colab.research.google.com/assets/colab-badge.svg\" alt=\"Open In Colab\"/></a>"
      ]
    },
    {
      "cell_type": "code",
      "execution_count": 1,
      "metadata": {
        "colab": {
          "base_uri": "https://localhost:8080/"
        },
        "id": "Ya4-iw9hWtzH",
        "outputId": "3ea07480-c8bd-4e7a-c5d0-c210bef13970"
      },
      "outputs": [
        {
          "output_type": "stream",
          "name": "stdout",
          "text": [
            "Mounted at /content/drive\n"
          ]
        }
      ],
      "source": [
        "# Step 0: Mount Drive and Import Libraries\n",
        "\n",
        "# Mount Google Drive\n",
        "from google.colab import drive\n",
        "drive.mount('/content/drive')\n",
        "\n",
        "# Import core libraries\n",
        "import os\n",
        "import numpy as np\n",
        "import matplotlib.pyplot as plt\n",
        "\n",
        "# Torch and torchvision\n",
        "import torch\n",
        "import torch.nn as nn\n",
        "import torch.optim as optim\n",
        "from torch.utils.data import DataLoader\n",
        "from torchvision import datasets, transforms, models\n",
        "\n",
        "# Utilities\n",
        "from sklearn.metrics import classification_report, confusion_matrix\n",
        "import seaborn as sns\n"
      ]
    },
    {
      "cell_type": "code",
      "source": [
        "!ls drive/MyDrive/"
      ],
      "metadata": {
        "colab": {
          "base_uri": "https://localhost:8080/"
        },
        "id": "twWyIu8oaOYl",
        "outputId": "a0ca4b7f-e051-4c6e-8c60-4ebbb0d22687"
      },
      "execution_count": 3,
      "outputs": [
        {
          "output_type": "stream",
          "name": "stdout",
          "text": [
            "'Colab Notebooks'   RAISE_1k.csv.zip   SYNTHBUSTER_32.zip\n",
            " RAISE\t\t    synthbuster        synthbuster.zip\n"
          ]
        }
      ]
    },
    {
      "cell_type": "code",
      "source": [
        "folder_path = \"drive/MyDrive/RAISE/PNG\"\n",
        "# Count only .png files\n",
        "png_count = sum(1 for f in os.listdir(folder_path) if f.lower().endswith(\".png\"))\n",
        "\n",
        "print(f\"Number of PNG files in '{folder_path}': {png_count}\")"
      ],
      "metadata": {
        "colab": {
          "base_uri": "https://localhost:8080/"
        },
        "id": "6WGylBSadJ-c",
        "outputId": "a06b47e3-7db6-471b-9184-366fe682a95a"
      },
      "execution_count": 9,
      "outputs": [
        {
          "output_type": "stream",
          "name": "stdout",
          "text": [
            "Number of PNG files in 'drive/MyDrive/RAISE/PNG': 999\n"
          ]
        }
      ]
    },
    {
      "cell_type": "code",
      "source": [
        "# Step 1: Load Datasets and Split into Train/Test\n",
        "\n",
        "import kagglehub\n",
        "\n",
        "# Download Synthbuster (JPEG resized version) from Kaggle\n",
        "synth_path = kagglehub.dataset_download(\"devpatel484/synthbuster-32\")\n",
        "print(\"Path to Synthbuster dataset:\", synth_path)"
      ],
      "metadata": {
        "colab": {
          "base_uri": "https://localhost:8080/"
        },
        "id": "QBqv4WL0alXW",
        "outputId": "0c0ec17f-e35e-4c98-a3d2-8cc989169176"
      },
      "execution_count": 4,
      "outputs": [
        {
          "output_type": "stream",
          "name": "stdout",
          "text": [
            "Downloading from https://www.kaggle.com/api/v1/datasets/download/devpatel484/synthbuster-32?dataset_version_number=1...\n"
          ]
        },
        {
          "output_type": "stream",
          "name": "stderr",
          "text": [
            "100%|██████████| 9.04M/9.04M [00:00<00:00, 55.5MB/s]"
          ]
        },
        {
          "output_type": "stream",
          "name": "stdout",
          "text": [
            "Extracting files...\n"
          ]
        },
        {
          "output_type": "stream",
          "name": "stderr",
          "text": [
            "\n"
          ]
        },
        {
          "output_type": "stream",
          "name": "stdout",
          "text": [
            "Path to Synthbuster dataset: /root/.cache/kagglehub/datasets/devpatel484/synthbuster-32/versions/1\n"
          ]
        }
      ]
    },
    {
      "cell_type": "code",
      "source": [
        "# Paths\n",
        "real_path = \"/content/drive/MyDrive/RAISE/PNG\"   # Real images\n",
        "ai_path   = synth_path   # AI images (JPEGs)\n",
        "\n",
        "# Define transforms (resize, normalize, augment for train)\n",
        "transform_train = transforms.Compose([\n",
        "    transforms.Resize((224, 224)),  # MobileNetV2 expects 224x224\n",
        "    transforms.RandomHorizontalFlip(),\n",
        "    transforms.RandomRotation(10),\n",
        "    transforms.ToTensor(),\n",
        "    transforms.Normalize(mean=[0.485, 0.456, 0.406],\n",
        "                         std=[0.229, 0.224, 0.225])\n",
        "])\n",
        "\n",
        "transform_test = transforms.Compose([\n",
        "    transforms.Resize((224, 224)),\n",
        "    transforms.ToTensor(),\n",
        "    transforms.Normalize(mean=[0.485, 0.456, 0.406],\n",
        "                         std=[0.229, 0.224, 0.225])\n",
        "])\n",
        "\n",
        "# Combine both datasets under one structure using ImageFolder\n",
        "# Let's first create parent folders with 'real' and 'ai' subdirs\n",
        "\n",
        "!mkdir -p /content/dataset/real\n",
        "!mkdir -p /content/dataset/ai\n",
        "\n",
        "# Symlink instead of copying (saves space)\n",
        "!ln -s \"{real_path}\"/* /content/dataset/real/\n",
        "!ln -s \"{ai_path}\"/* /content/dataset/ai/\n",
        "\n",
        "# Now create dataset with ImageFolder\n",
        "full_dataset = datasets.ImageFolder(\n",
        "    root=\"/content/dataset\",\n",
        "    transform=transform_train\n",
        ")\n",
        "\n",
        "# Train/Test split (80/20)\n",
        "train_size = int(0.8 * len(full_dataset))\n",
        "test_size  = len(full_dataset) - train_size\n",
        "train_dataset, test_dataset = torch.utils.data.random_split(\n",
        "    full_dataset, [train_size, test_size]\n",
        ")\n",
        "\n",
        "# Apply correct transforms\n",
        "train_dataset.dataset.transform = transform_train\n",
        "test_dataset.dataset.transform  = transform_test\n",
        "\n",
        "# Dataloaders\n",
        "train_loader = DataLoader(train_dataset, batch_size=32, shuffle=True, num_workers=2)\n",
        "test_loader  = DataLoader(test_dataset, batch_size=32, shuffle=False, num_workers=2)\n",
        "\n",
        "print(f\"Total images: {len(full_dataset)}\")\n",
        "print(f\"Train: {len(train_dataset)}, Test: {len(test_dataset)}\")\n",
        "print(f\"Classes: {full_dataset.classes}\")"
      ],
      "metadata": {
        "colab": {
          "base_uri": "https://localhost:8080/"
        },
        "id": "RZ15uFH1a4af",
        "outputId": "e356f3fe-0a1c-4aab-a40e-6588229cec71"
      },
      "execution_count": 7,
      "outputs": [
        {
          "output_type": "stream",
          "name": "stdout",
          "text": [
            "Total images: 9999\n",
            "Train: 7999, Test: 2000\n",
            "Classes: ['ai', 'real']\n"
          ]
        }
      ]
    },
    {
      "cell_type": "code",
      "source": [
        "!ls dataset/ai/resized_data_Synthbuster/Synthbuster_Dataset/\n",
        "#!ls dataset/real"
      ],
      "metadata": {
        "id": "htU-DCTedkLl"
      },
      "execution_count": null,
      "outputs": []
    },
    {
      "cell_type": "code",
      "source": [],
      "metadata": {
        "id": "-O8fY9iMeAPk"
      },
      "execution_count": null,
      "outputs": []
    }
  ]
}