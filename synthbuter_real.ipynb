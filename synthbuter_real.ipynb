{
  "nbformat": 4,
  "nbformat_minor": 0,
  "metadata": {
    "colab": {
      "provenance": [],
      "authorship_tag": "ABX9TyO0d2QM7EY8NEi8uRl2sBA/",
      "include_colab_link": true
    },
    "kernelspec": {
      "name": "python3",
      "display_name": "Python 3"
    },
    "language_info": {
      "name": "python"
    }
  },
  "cells": [
    {
      "cell_type": "markdown",
      "metadata": {
        "id": "view-in-github",
        "colab_type": "text"
      },
      "source": [
        "<a href=\"https://colab.research.google.com/github/Htets-Corner/SYNTHBUSTER_RAISE-1k/blob/main/synthbuter_real.ipynb\" target=\"_parent\"><img src=\"https://colab.research.google.com/assets/colab-badge.svg\" alt=\"Open In Colab\"/></a>"
      ]
    },
    {
      "cell_type": "code",
      "source": [
        "# Step 0: Mount Drive and Import Libraries\n",
        "\n",
        "# Mount Google Drive\n",
        "from google.colab import drive\n",
        "drive.mount('/content/drive')\n",
        "\n",
        "# Import core libraries\n",
        "import os\n",
        "import numpy as np\n",
        "import matplotlib.pyplot as plt\n",
        "\n",
        "# Torch and torchvision\n",
        "import torch\n",
        "import torch.nn as nn\n",
        "import torch.optim as optim\n",
        "from torch.utils.data import DataLoader\n",
        "from torchvision import datasets, transforms, models\n",
        "\n",
        "# Utilities\n",
        "from sklearn.metrics import classification_report, confusion_matrix\n",
        "import seaborn as sns\n"
      ],
      "metadata": {
        "colab": {
          "base_uri": "https://localhost:8080/"
        },
        "id": "fPUt4nI_75-U",
        "outputId": "08afa233-3b82-4f96-a06b-7bfcce6be6ad"
      },
      "execution_count": 1,
      "outputs": [
        {
          "output_type": "stream",
          "name": "stdout",
          "text": [
            "Mounted at /content/drive\n"
          ]
        }
      ]
    },
    {
      "cell_type": "code",
      "source": [
        "# Step 1: Prepare dataset loaders and save structured dataset into Drive (resumable)\n",
        "\n",
        "import os\n",
        "import shutil\n",
        "import random\n",
        "from tqdm import tqdm\n",
        "from torchvision import datasets, transforms\n",
        "from torch.utils.data import DataLoader\n",
        "\n",
        "# Mount Drive\n",
        "from google.colab import drive\n",
        "drive.mount('/content/drive')\n",
        "\n",
        "# Paths to original datasets in your Drive\n",
        "real_path = \"/content/drive/MyDrive/RAISE/PNG\"\n",
        "ai_path = \"/content/drive/MyDrive/SYNTHBUSTER_32\"\n",
        "\n",
        "# Destination structured dataset root (inside Drive)\n",
        "dataset_root = \"/content/drive/MyDrive/Binary_Dataset\"\n",
        "train_dir = os.path.join(dataset_root, \"train\")\n",
        "test_dir = os.path.join(dataset_root, \"test\")\n",
        "\n",
        "# Create folders\n",
        "for split in [\"train\", \"test\"]:\n",
        "    for cls in [\"real\", \"ai\"]:\n",
        "        os.makedirs(os.path.join(dataset_root, split, cls), exist_ok=True)\n",
        "\n",
        "# --- Handle real dataset (flat folder of PNGs) ---\n",
        "real_images = os.listdir(real_path)\n",
        "random.shuffle(real_images)\n",
        "\n",
        "split_idx = int(0.8 * len(real_images))\n",
        "train_real, test_real = real_images[:split_idx], real_images[split_idx:]\n",
        "\n",
        "# Copy real train images (skip if exists)\n",
        "for img in tqdm(train_real, desc=\"Copying Real Train\"):\n",
        "    dst = os.path.join(train_dir, \"real\", img)\n",
        "    if not os.path.exists(dst):\n",
        "        shutil.copy(os.path.join(real_path, img), dst)\n",
        "\n",
        "# Copy real test images (skip if exists)\n",
        "for img in tqdm(test_real, desc=\"Copying Real Test\"):\n",
        "    dst = os.path.join(test_dir, \"real\", img)\n",
        "    if not os.path.exists(dst):\n",
        "        shutil.copy(os.path.join(real_path, img), dst)\n",
        "\n",
        "# --- Handle AI dataset (9 subfolders with JPGs) ---\n",
        "ai_folders = [os.path.join(ai_path, f) for f in os.listdir(ai_path) if os.path.isdir(os.path.join(ai_path, f))]\n",
        "ai_images = []\n",
        "for folder in ai_folders:\n",
        "    imgs = [os.path.join(folder, x) for x in os.listdir(folder)]\n",
        "    ai_images.extend(imgs)\n",
        "\n",
        "random.shuffle(ai_images)\n",
        "\n",
        "split_idx = int(0.8 * len(ai_images))\n",
        "train_ai, test_ai = ai_images[:split_idx], ai_images[split_idx:]\n",
        "\n",
        "# Copy AI train images (skip if exists)\n",
        "for img in tqdm(train_ai, desc=\"Copying AI Train\"):\n",
        "    dst = os.path.join(train_dir, \"ai\", os.path.basename(img))\n",
        "    if not os.path.exists(dst):\n",
        "        shutil.copy(img, dst)\n",
        "\n",
        "# Copy AI test images (skip if exists)\n",
        "for img in tqdm(test_ai, desc=\"Copying AI Test\"):\n",
        "    dst = os.path.join(test_dir, \"ai\", os.path.basename(img))\n",
        "    if not os.path.exists(dst):\n",
        "        shutil.copy(img, dst)\n",
        "\n",
        "print(\"✅ Dataset structured successfully and saved in Google Drive at:\", dataset_root)\n",
        "\n",
        "# --- Define transforms ---\n",
        "transform = transforms.Compose([\n",
        "    transforms.Resize((224, 224)),\n",
        "    transforms.ToTensor(),\n",
        "    transforms.Normalize(mean=[0.485, 0.456, 0.406], std=[0.229, 0.224, 0.225])\n",
        "])\n",
        "\n",
        "# --- Create datasets & loaders ---\n",
        "train_dataset = datasets.ImageFolder(train_dir, transform=transform)\n",
        "test_dataset = datasets.ImageFolder(test_dir, transform=transform)\n",
        "\n",
        "train_loader = DataLoader(train_dataset, batch_size=32, shuffle=True, num_workers=2)\n",
        "test_loader = DataLoader(test_dataset, batch_size=32, shuffle=False, num_workers=2)\n",
        "\n",
        "print(f\"Train set size: {len(train_dataset)} images\")\n",
        "print(f\"Test set size: {len(test_dataset)} images\")\n",
        "print(f\"Classes: {train_dataset.classes}\")\n"
      ],
      "metadata": {
        "colab": {
          "base_uri": "https://localhost:8080/"
        },
        "id": "Hg6IgkxbHAkR",
        "outputId": "7acda174-8838-4392-fcb9-b6681a7c96d5"
      },
      "execution_count": null,
      "outputs": [
        {
          "output_type": "stream",
          "name": "stdout",
          "text": [
            "Drive already mounted at /content/drive; to attempt to forcibly remount, call drive.mount(\"/content/drive\", force_remount=True).\n"
          ]
        },
        {
          "output_type": "stream",
          "name": "stderr",
          "text": [
            "Copying Real Train: 100%|██████████| 799/799 [10:00<00:00,  1.33it/s]\n",
            "Copying Real Test: 100%|██████████| 200/200 [02:37<00:00,  1.27it/s]\n",
            "Copying AI Train: 100%|██████████| 7200/7200 [06:41<00:00, 17.93it/s]  \n",
            "Copying AI Test: 100%|██████████| 1800/1800 [05:53<00:00,  5.09it/s]"
          ]
        },
        {
          "output_type": "stream",
          "name": "stdout",
          "text": [
            "✅ Dataset structured successfully and saved in Google Drive at: /content/drive/MyDrive/Binary_Dataset\n",
            "Train set size: 1799 images\n",
            "Test set size: 1071 images\n",
            "Classes: ['ai', 'real']\n"
          ]
        },
        {
          "output_type": "stream",
          "name": "stderr",
          "text": [
            "\n"
          ]
        }
      ]
    },
    {
      "cell_type": "code",
      "source": [
        "# Real Usage Step 1: Prepare dataset loaders and save structured dataset into Drive (resumable + unique filenames)\n",
        "\n",
        "import os\n",
        "import shutil\n",
        "import random\n",
        "from tqdm import tqdm\n",
        "from torchvision import datasets, transforms\n",
        "from torch.utils.data import DataLoader\n",
        "\n",
        "# Mount Drive\n",
        "from google.colab import drive\n",
        "drive.mount('/content/drive')\n",
        "\n",
        "# Paths to original datasets in your Drive\n",
        "real_path = \"/content/drive/MyDrive/RAISE/PNG\"\n",
        "ai_path = \"/content/drive/MyDrive/synthbuster\"\n",
        "\n",
        "# Destination structured dataset root (inside Drive)\n",
        "dataset_root = \"/content/drive/MyDrive/Dataset\"   # <-- matches your log\n",
        "train_dir = os.path.join(dataset_root, \"train\")\n",
        "test_dir = os.path.join(dataset_root, \"test\")\n",
        "\n",
        "# Create folders\n",
        "for split in [\"train\", \"test\"]:\n",
        "    for cls in [\"real\", \"ai\"]:\n",
        "        os.makedirs(os.path.join(dataset_root, split, cls), exist_ok=True)\n",
        "\n",
        "# --- Handle REAL dataset ---\n",
        "real_images = os.listdir(real_path)\n",
        "random.shuffle(real_images)\n",
        "\n",
        "split_idx = int(0.8 * len(real_images))\n",
        "train_real, test_real = real_images[:split_idx], real_images[split_idx:]\n",
        "\n",
        "for img in tqdm(train_real, desc=\"Copying Real Train\"):\n",
        "    src = os.path.join(real_path, img)\n",
        "    dst = os.path.join(train_dir, \"real\", img)\n",
        "    if not os.path.exists(dst):\n",
        "        shutil.copy(src, dst)\n",
        "\n",
        "for img in tqdm(test_real, desc=\"Copying Real Test\"):\n",
        "    src = os.path.join(real_path, img)\n",
        "    dst = os.path.join(test_dir, \"real\", img)\n",
        "    if not os.path.exists(dst):\n",
        "        shutil.copy(src, dst)\n",
        "\n",
        "# --- Handle AI dataset ---\n",
        "ai_folders = [f for f in os.listdir(ai_path) if os.path.isdir(os.path.join(ai_path, f))]\n",
        "ai_images = []\n",
        "for folder in ai_folders:\n",
        "    folder_path = os.path.join(ai_path, folder)\n",
        "    imgs = [(os.path.join(folder_path, x), folder) for x in os.listdir(folder_path)]\n",
        "    ai_images.extend(imgs)\n",
        "\n",
        "random.shuffle(ai_images)\n",
        "\n",
        "split_idx = int(0.8 * len(ai_images))\n",
        "train_ai, test_ai = ai_images[:split_idx], ai_images[split_idx:]\n",
        "\n",
        "for img, folder in tqdm(train_ai, desc=\"Copying AI Train\"):\n",
        "    # Make unique name with folder prefix\n",
        "    new_name = f\"{folder}_{os.path.basename(img)}\"\n",
        "    dst = os.path.join(train_dir, \"ai\", new_name)\n",
        "    if not os.path.exists(dst):\n",
        "        shutil.copy(img, dst)\n",
        "\n",
        "for img, folder in tqdm(test_ai, desc=\"Copying AI Test\"):\n",
        "    new_name = f\"{folder}_{os.path.basename(img)}\"\n",
        "    dst = os.path.join(test_dir, \"ai\", new_name)\n",
        "    if not os.path.exists(dst):\n",
        "        shutil.copy(img, dst)\n",
        "\n",
        "print(\"✅ Dataset structured successfully and saved in Google Drive at:\", dataset_root)\n",
        "\n",
        "# --- Define transforms ---\n",
        "transform = transforms.Compose([\n",
        "    transforms.Resize((224, 224)),\n",
        "    transforms.ToTensor(),\n",
        "    transforms.Normalize(mean=[0.485, 0.456, 0.406], std=[0.229, 0.224, 0.225])\n",
        "])\n",
        "\n",
        "# --- Create datasets & loaders ---\n",
        "train_dataset = datasets.ImageFolder(train_dir, transform=transform)\n",
        "test_dataset = datasets.ImageFolder(test_dir, transform=transform)\n",
        "\n",
        "train_loader = DataLoader(train_dataset, batch_size=32, shuffle=True, num_workers=2)\n",
        "test_loader = DataLoader(test_dataset, batch_size=32, shuffle=False, num_workers=2)\n",
        "\n",
        "print(f\"Train set size: {len(train_dataset)} images\")\n",
        "print(f\"Test set size: {len(test_dataset)} images\")\n",
        "print(f\"Classes: {train_dataset.classes}\")\n"
      ],
      "metadata": {
        "colab": {
          "base_uri": "https://localhost:8080/"
        },
        "id": "40Bhqexe01pz",
        "outputId": "c14fb483-4c38-4b8a-ff2d-232d66ed101d"
      },
      "execution_count": 7,
      "outputs": [
        {
          "output_type": "stream",
          "name": "stdout",
          "text": [
            "Drive already mounted at /content/drive; to attempt to forcibly remount, call drive.mount(\"/content/drive\", force_remount=True).\n"
          ]
        },
        {
          "output_type": "stream",
          "name": "stderr",
          "text": [
            "Copying Real Train: 100%|██████████| 799/799 [08:20<00:00,  1.60it/s]\n",
            "Copying Real Test: 100%|██████████| 200/200 [02:14<00:00,  1.48it/s]\n",
            "Copying AI Train: 100%|██████████| 2400/2400 [11:29<00:00,  3.48it/s]\n",
            "Copying AI Test: 100%|██████████| 600/600 [02:48<00:00,  3.55it/s]\n"
          ]
        },
        {
          "output_type": "stream",
          "name": "stdout",
          "text": [
            "✅ Dataset structured successfully and saved in Google Drive at: /content/drive/MyDrive/Dataset\n",
            "Train set size: 3199 images\n",
            "Test set size: 800 images\n",
            "Classes: ['ai', 'real']\n"
          ]
        }
      ]
    },
    {
      "cell_type": "code",
      "source": [
        "import os\n",
        "\n",
        "folder_path = \"/content/drive/MyDrive/Dataset/train/real\"\n",
        "#folder_path = \"/content/drive/MyDrive/Binary_Dataset/test/ai\"\n",
        "#folder_path = \"/content/drive/MyDrive/Binary_Dataset/train/real\"\n",
        "#folder_path = \"/content/drive/MyDrive/Binary_Dataset/train/ai\"\n",
        "\n",
        "# Count only .png files\n",
        "png_count = sum(1 for f in os.listdir(folder_path) if f.lower().endswith(\".png\"))\n",
        "\n",
        "print(f\"Number of PNG files in '{folder_path}': {png_count}\")\n"
      ],
      "metadata": {
        "colab": {
          "base_uri": "https://localhost:8080/"
        },
        "id": "49zlrX6f6oM0",
        "outputId": "c73d0325-942c-4344-8986-04046278dcf9"
      },
      "execution_count": 13,
      "outputs": [
        {
          "output_type": "stream",
          "name": "stdout",
          "text": [
            "Number of PNG files in '/content/drive/MyDrive/Dataset/train/real': 799\n"
          ]
        }
      ]
    },
    {
      "cell_type": "code",
      "source": [
        "# Step 2: Define MobileNetV2 model for Binary Classification\n",
        "\n",
        "import torch\n",
        "import torch.nn as nn\n",
        "import torchvision.models as models\n",
        "\n",
        "# Device\n",
        "device = torch.device(\"cuda\" if torch.cuda.is_available() else \"cpu\")\n",
        "print(\"Using device:\", device)\n",
        "\n",
        "# Load pretrained MobileNetV2\n",
        "model = models.mobilenet_v2(pretrained=True)\n",
        "\n",
        "# Freeze feature extractor (optional, speeds up training if dataset is small)\n",
        "for param in model.features.parameters():\n",
        "    param.requires_grad = False\n",
        "\n",
        "# Replace classifier for binary classification\n",
        "model.classifier[1] = nn.Linear(model.last_channel, 2)\n",
        "\n",
        "model = model.to(device)\n",
        "\n",
        "# Define loss and optimizer\n",
        "criterion = nn.CrossEntropyLoss()\n",
        "optimizer = torch.optim.Adam(model.parameters(), lr=0.001)\n",
        "\n",
        "print(\"✅ MobileNetV2 ready for binary classification (real vs AI)\")\n"
      ],
      "metadata": {
        "colab": {
          "base_uri": "https://localhost:8080/"
        },
        "id": "K2hDII49Qciy",
        "outputId": "9927f657-95b4-45d8-898c-e5974acfdb6d"
      },
      "execution_count": 14,
      "outputs": [
        {
          "output_type": "stream",
          "name": "stdout",
          "text": [
            "Using device: cpu\n"
          ]
        },
        {
          "output_type": "stream",
          "name": "stderr",
          "text": [
            "/usr/local/lib/python3.12/dist-packages/torchvision/models/_utils.py:208: UserWarning: The parameter 'pretrained' is deprecated since 0.13 and may be removed in the future, please use 'weights' instead.\n",
            "  warnings.warn(\n",
            "/usr/local/lib/python3.12/dist-packages/torchvision/models/_utils.py:223: UserWarning: Arguments other than a weight enum or `None` for 'weights' are deprecated since 0.13 and may be removed in the future. The current behavior is equivalent to passing `weights=MobileNet_V2_Weights.IMAGENET1K_V1`. You can also use `weights=MobileNet_V2_Weights.DEFAULT` to get the most up-to-date weights.\n",
            "  warnings.warn(msg)\n"
          ]
        },
        {
          "output_type": "stream",
          "name": "stdout",
          "text": [
            "Downloading: \"https://download.pytorch.org/models/mobilenet_v2-b0353104.pth\" to /root/.cache/torch/hub/checkpoints/mobilenet_v2-b0353104.pth\n"
          ]
        },
        {
          "output_type": "stream",
          "name": "stderr",
          "text": [
            "100%|██████████| 13.6M/13.6M [00:00<00:00, 71.4MB/s]\n"
          ]
        },
        {
          "output_type": "stream",
          "name": "stdout",
          "text": [
            "✅ MobileNetV2 ready for binary classification (real vs AI)\n"
          ]
        }
      ]
    },
    {
      "cell_type": "code",
      "source": [
        "import torch\n",
        "import torch.nn as nn\n",
        "import torch.optim as optim\n",
        "from torchvision import datasets, transforms\n",
        "from torch.utils.data import DataLoader\n",
        "import matplotlib.pyplot as plt\n",
        "import os\n",
        "\n",
        "# ======================\n",
        "# Data Loaders\n",
        "# ======================\n",
        "data_dir = \"/content/drive/MyDrive/Dataset\"\n",
        "\n",
        "transform = transforms.Compose([\n",
        "    transforms.Resize((224, 224)),   # MobileNetV2 input size\n",
        "    transforms.ToTensor(),\n",
        "    transforms.Normalize([0.485, 0.456, 0.406],\n",
        "                         [0.229, 0.224, 0.225])\n",
        "])\n",
        "\n",
        "train_dataset = datasets.ImageFolder(os.path.join(data_dir, \"train\"), transform=transform)\n",
        "test_dataset  = datasets.ImageFolder(os.path.join(data_dir, \"test\"), transform=transform)\n",
        "\n",
        "train_loader = DataLoader(train_dataset, batch_size=16, shuffle=True)\n",
        "test_loader  = DataLoader(test_dataset, batch_size=16, shuffle=False)\n",
        "\n",
        "# ======================\n",
        "# Model Setup\n",
        "# ======================\n",
        "from torchvision.models import mobilenet_v2, MobileNet_V2_Weights\n",
        "\n",
        "weights = MobileNet_V2_Weights.DEFAULT\n",
        "model = mobilenet_v2(weights=weights)\n",
        "\n",
        "# Freeze all layers\n",
        "for param in model.parameters():\n",
        "    param.requires_grad = False\n",
        "\n",
        "# Replace classifier for binary classification\n",
        "model.classifier[1] = nn.Linear(model.last_channel, 2)\n",
        "\n",
        "device = torch.device(\"cpu\")\n",
        "model = model.to(device)\n",
        "\n",
        "criterion = nn.CrossEntropyLoss()\n",
        "optimizer = optim.Adam(model.classifier[1].parameters(), lr=0.001)\n",
        "\n",
        "# ======================\n",
        "# Training Loop\n",
        "# ======================\n",
        "best_acc = 0.0\n",
        "train_losses, test_losses = [], []\n",
        "train_accs, test_accs = [], []\n",
        "\n",
        "num_epochs = 5  # keep small for CPU\n",
        "\n",
        "for epoch in range(num_epochs):\n",
        "    model.train()\n",
        "    running_loss, correct, total = 0.0, 0, 0\n",
        "\n",
        "    for images, labels in train_loader:\n",
        "        images, labels = images.to(device), labels.to(device)\n",
        "\n",
        "        optimizer.zero_grad()\n",
        "        outputs = model(images)\n",
        "        loss = criterion(outputs, labels)\n",
        "        loss.backward()\n",
        "        optimizer.step()\n",
        "\n",
        "        running_loss += loss.item() * images.size(0)\n",
        "        _, predicted = outputs.max(1)\n",
        "        total += labels.size(0)\n",
        "        correct += predicted.eq(labels).sum().item()\n",
        "\n",
        "    epoch_loss = running_loss / len(train_dataset)\n",
        "    epoch_acc = 100. * correct / total\n",
        "    train_losses.append(epoch_loss)\n",
        "    train_accs.append(epoch_acc)\n",
        "\n",
        "    # ----------------------\n",
        "    # Validation\n",
        "    # ----------------------\n",
        "    model.eval()\n",
        "    val_loss, correct, total = 0.0, 0, 0\n",
        "    with torch.no_grad():\n",
        "        for images, labels in test_loader:\n",
        "            images, labels = images.to(device), labels.to(device)\n",
        "            outputs = model(images)\n",
        "            loss = criterion(outputs, labels)\n",
        "\n",
        "            val_loss += loss.item() * images.size(0)\n",
        "            _, predicted = outputs.max(1)\n",
        "            total += labels.size(0)\n",
        "            correct += predicted.eq(labels).sum().item()\n",
        "\n",
        "    val_loss /= len(test_dataset)\n",
        "    val_acc = 100. * correct / total\n",
        "    test_losses.append(val_loss)\n",
        "    test_accs.append(val_acc)\n",
        "\n",
        "    print(f\"Epoch [{epoch+1}/{num_epochs}] \"\n",
        "          f\"Train Loss: {epoch_loss:.4f}, Train Acc: {epoch_acc:.2f}% \"\n",
        "          f\"Val Loss: {val_loss:.4f}, Val Acc: {val_acc:.2f}%\")\n",
        "\n",
        "    # Save best model\n",
        "    if val_acc > best_acc:\n",
        "        best_acc = val_acc\n",
        "        torch.save(model.state_dict(), \"/content/drive/MyDrive/best_mobilenetv2.pth\")\n",
        "        print(\"💾 Best model saved!\")\n",
        "\n",
        "# ======================\n",
        "# Visualization\n",
        "# ======================\n",
        "plt.figure(figsize=(10,4))\n",
        "plt.subplot(1,2,1)\n",
        "plt.plot(train_losses, label=\"Train Loss\")\n",
        "plt.plot(test_losses, label=\"Val Loss\")\n",
        "plt.legend(); plt.title(\"Loss\")\n",
        "\n",
        "plt.subplot(1,2,2)\n",
        "plt.plot(train_accs, label=\"Train Acc\")\n",
        "plt.plot(test_accs, label=\"Val Acc\")\n",
        "plt.legend(); plt.title(\"Accuracy\")\n",
        "\n",
        "plt.show()\n"
      ],
      "metadata": {
        "colab": {
          "base_uri": "https://localhost:8080/",
          "height": 582
        },
        "id": "Rvn5bTqM8sGN",
        "outputId": "b90430a1-65bf-467a-e18a-6ca674b56b04"
      },
      "execution_count": 15,
      "outputs": [
        {
          "output_type": "stream",
          "name": "stdout",
          "text": [
            "Downloading: \"https://download.pytorch.org/models/mobilenet_v2-7ebf99e0.pth\" to /root/.cache/torch/hub/checkpoints/mobilenet_v2-7ebf99e0.pth\n"
          ]
        },
        {
          "output_type": "stream",
          "name": "stderr",
          "text": [
            "100%|██████████| 13.6M/13.6M [00:00<00:00, 87.4MB/s]\n"
          ]
        },
        {
          "output_type": "stream",
          "name": "stdout",
          "text": [
            "Epoch [1/5] Train Loss: 0.4693, Train Acc: 78.18% Val Loss: 0.3931, Val Acc: 84.00%\n",
            "💾 Best model saved!\n",
            "Epoch [2/5] Train Loss: 0.3861, Train Acc: 82.81% Val Loss: 0.3722, Val Acc: 81.25%\n",
            "Epoch [3/5] Train Loss: 0.3615, Train Acc: 84.53% Val Loss: 0.3193, Val Acc: 86.00%\n",
            "💾 Best model saved!\n",
            "Epoch [4/5] Train Loss: 0.3374, Train Acc: 85.18% Val Loss: 0.3072, Val Acc: 87.38%\n",
            "💾 Best model saved!\n",
            "Epoch [5/5] Train Loss: 0.3252, Train Acc: 85.93% Val Loss: 0.2977, Val Acc: 88.25%\n",
            "💾 Best model saved!\n"
          ]
        },
        {
          "output_type": "display_data",
          "data": {
            "text/plain": [
              "<Figure size 1000x400 with 2 Axes>"
            ],
            "image/png": "[encoded data removed]"
          },
          "metadata": {}
        }
      ]
    }
  ]
}