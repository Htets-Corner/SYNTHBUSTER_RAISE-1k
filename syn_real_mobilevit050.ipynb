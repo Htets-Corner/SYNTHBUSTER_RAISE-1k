{
  "nbformat": 4,
  "nbformat_minor": 0,
  "metadata": {
    "colab": {
      "provenance": [],
      "authorship_tag": "ABX9TyMj0B8ChxuEH72q93V9rpa7",
      "include_colab_link": true
    },
    "kernelspec": {
      "name": "python3",
      "display_name": "Python 3"
    },
    "language_info": {
      "name": "python"
    }
  },
  "cells": [
    {
      "cell_type": "markdown",
      "metadata": {
        "id": "view-in-github",
        "colab_type": "text"
      },
      "source": [
        "<a href=\"https://colab.research.google.com/github/Htets-Corner/SYNTHBUSTER_RAISE-1k/blob/main/syn_real_mobilevit050.ipynb\" target=\"_parent\"><img src=\"https://colab.research.google.com/assets/colab-badge.svg\" alt=\"Open In Colab\"/></a>"
      ]
    },
    {
      "cell_type": "code",
      "execution_count": 14,
      "metadata": {
        "colab": {
          "base_uri": "https://localhost:8080/"
        },
        "id": "YjolD0h7Lxet",
        "outputId": "43200349-aeb1-45f6-938f-81de693c16a0"
      },
      "outputs": [
        {
          "output_type": "stream",
          "name": "stdout",
          "text": [
            "Drive already mounted at /content/drive; to attempt to forcibly remount, call drive.mount(\"/content/drive\", force_remount=True).\n",
            "Train path: /content/drive/MyDrive/Dataset/train\n",
            "Test path: /content/drive/MyDrive/Dataset/test\n",
            "Classes: ['ai', 'real']\n",
            "Train size: 3199\n",
            "Test size: 800\n"
          ]
        }
      ],
      "source": [
        "# Step 0: Data Preparation\n",
        "\n",
        "# 1. Mount Google Drive\n",
        "from google.colab import drive\n",
        "drive.mount('/content/drive')\n",
        "\n",
        "# 2. Define dataset path\n",
        "import os\n",
        "\n",
        "# Update this path if needed\n",
        "dataset_path = \"/content/drive/MyDrive/Dataset\"\n",
        "\n",
        "train_dir = os.path.join(dataset_path, \"train\")\n",
        "test_dir  = os.path.join(dataset_path, \"test\")\n",
        "\n",
        "print(\"Train path:\", train_dir)\n",
        "print(\"Test path:\", test_dir)\n",
        "\n",
        "# 3. Import necessary libraries\n",
        "import torch\n",
        "from torchvision import datasets, transforms\n",
        "from torch.utils.data import DataLoader\n",
        "\n",
        "# 4. Define image transformations (resize, normalization)\n",
        "# MobileViT usually works with 256x256 or 224x224 input\n",
        "image_size = 256\n",
        "\n",
        "transform = transforms.Compose([\n",
        "    transforms.Resize((image_size, image_size)),\n",
        "    transforms.ToTensor(),\n",
        "    transforms.Normalize(\n",
        "        mean=[0.5, 0.5, 0.5],   # normalize to [-1, 1]\n",
        "        std=[0.5, 0.5, 0.5]\n",
        "    )\n",
        "])\n",
        "\n",
        "# 5. Load train and test datasets\n",
        "#train_dataset = datasets.ImageFolder(root=train_dir, transform=transform)\n",
        "#test_dataset  = datasets.ImageFolder(root=test_dir, transform=transform)\n",
        "\n",
        "from torchvision.datasets import ImageFolder\n",
        "\n",
        "valid_exts = ('.jpg', '.jpeg', '.png', '.PNG', '.bmp', '.tif', '.tiff', '.webp')\n",
        "\n",
        "train_dataset = ImageFolder(\n",
        "    root=train_dir,\n",
        "    transform=transform,\n",
        "    is_valid_file=lambda path: path.lower().endswith(valid_exts)\n",
        ")\n",
        "\n",
        "test_dataset = ImageFolder(\n",
        "    root=test_dir,\n",
        "    transform=transform,\n",
        "    is_valid_file=lambda path: path.lower().endswith(valid_exts)\n",
        ")\n",
        "\n",
        "\n",
        "# 6. Create DataLoaders\n",
        "#batch_size = 32\n",
        "batch_size = 16\n",
        "\n",
        "train_loader = DataLoader(train_dataset, batch_size=batch_size, shuffle=True, num_workers=2)\n",
        "test_loader  = DataLoader(test_dataset, batch_size=batch_size, shuffle=False, num_workers=2)\n",
        "\n",
        "# 7. Check class labels\n",
        "classes = train_dataset.classes\n",
        "print(\"Classes:\", classes)\n",
        "print(\"Train size:\", len(train_dataset))\n",
        "print(\"Test size:\", len(test_dataset))\n"
      ]
    },
    {
      "cell_type": "code",
      "source": [
        "import os\n",
        "\n",
        "print(\"Train/AI files:\", len(os.listdir(train_dir + \"/ai\")))\n",
        "print(\"Train/Real files:\", len(os.listdir(train_dir + \"/real\")))\n",
        "print(\"Test/AI files:\", len(os.listdir(test_dir + \"/ai\")))\n",
        "print(\"Test/Real files:\", len(os.listdir(test_dir + \"/real\")))\n",
        "\n",
        "# Show first 5 files in each folder\n",
        "print(\"Sample AI:\", os.listdir(train_dir + \"/ai\")[:5])\n",
        "print(\"Sample Real:\", os.listdir(train_dir + \"/real\")[:5])\n"
      ],
      "metadata": {
        "colab": {
          "base_uri": "https://localhost:8080/"
        },
        "id": "NQFeCGAWPZgk",
        "outputId": "68d40ae8-cbb2-478d-8837-552b5cf7380b"
      },
      "execution_count": 15,
      "outputs": [
        {
          "output_type": "stream",
          "name": "stdout",
          "text": [
            "Train/AI files: 2400\n",
            "Train/Real files: 799\n",
            "Test/AI files: 600\n",
            "Test/Real files: 200\n",
            "Sample AI: ['stable-diffusion-2_r179bb406t.png', 'stable-diffusion-2_r0e965ba7t.png', 'firefly_r03f70ccdt.png', 'stable-diffusion-xl_r164c1e13t.png', 'firefly_r138ad247t.png']\n",
            "Sample Real: ['r15c91802t.png', 'r0db6cc31t.png', 'r1aa53167t.png', 'r05d9d749t.png', 'r13de1e12t.png']\n"
          ]
        }
      ]
    },
    {
      "cell_type": "code",
      "source": [
        "# Run this first cell in Colab\n",
        "!pip install -q timm        # recommended: timm includes MobileViT variants + pretrained weights\n",
        "# optional fallback (if you want the standalone implementation)\n",
        "# !pip install -q git+https://github.com/chinhsuanwu/mobilevit-pytorch.git\n"
      ],
      "metadata": {
        "id": "43lk34l8TnSH"
      },
      "execution_count": 16,
      "outputs": []
    },
    {
      "cell_type": "code",
      "source": [
        "import os\n",
        "import torch\n",
        "import torch.nn as nn\n",
        "import torch.optim as optim\n",
        "from torch.utils.data import DataLoader, WeightedRandomSampler\n",
        "import timm\n",
        "from collections import Counter\n",
        "print(\"Torch:\", torch.__version__, \"Timm:\", timm.__version__)\n",
        "\n",
        "device = torch.device(\"cuda\" if torch.cuda.is_available() else \"cpu\")\n",
        "print(\"Device:\", device)\n"
      ],
      "metadata": {
        "colab": {
          "base_uri": "https://localhost:8080/"
        },
        "id": "g1siAATATu7T",
        "outputId": "db2fe89b-e0db-45dc-c498-89517f214669"
      },
      "execution_count": 17,
      "outputs": [
        {
          "output_type": "stream",
          "name": "stdout",
          "text": [
            "Torch: 2.8.0+cu126 Timm: 1.0.19\n",
            "Device: cpu\n"
          ]
        }
      ]
    },
    {
      "cell_type": "code",
      "source": [
        "# list available MobileViT-like models in timm\n",
        "models = timm.list_models('*mobilevit*')\n",
        "print(\"MobileViT variants found in timm:\", models)\n",
        "\n",
        "# choose one automatically (you can change this name)\n",
        "if len(models) == 0:\n",
        "    raise RuntimeError(\"No MobileViT models found in timm. You can pip-install a standalone MobileViT repo instead.\")\n",
        "model_name = models[0]   # default to first found; or set e.g. 'mobilevit_xxs' or 'mobilevit_s'\n",
        "print(\"Using model:\", model_name)\n",
        "\n"
      ],
      "metadata": {
        "colab": {
          "base_uri": "https://localhost:8080/"
        },
        "id": "OWDUv5ieT3MM",
        "outputId": "6c9e14db-42ec-400f-9bf7-e409d9154ce8"
      },
      "execution_count": 18,
      "outputs": [
        {
          "output_type": "stream",
          "name": "stdout",
          "text": [
            "MobileViT variants found in timm: ['mobilevit_s', 'mobilevit_xs', 'mobilevit_xxs', 'mobilevitv2_050', 'mobilevitv2_075', 'mobilevitv2_100', 'mobilevitv2_125', 'mobilevitv2_150', 'mobilevitv2_175', 'mobilevitv2_200']\n",
            "Using model: mobilevit_s\n"
          ]
        }
      ]
    },
    {
      "cell_type": "code",
      "source": [
        "import timm\n",
        "import torch\n",
        "import torch.nn as nn\n",
        "\n",
        "# 1. Choose model\n",
        "model_name = \"mobilevitv2_050\"\n",
        "\n",
        "# 2. Load pretrained model from timm\n",
        "model = timm.create_model(model_name, pretrained=True)\n",
        "\n",
        "# 3. Adapt classifier head for 2 classes (ai, real)\n",
        "if hasattr(model, \"reset_classifier\"):\n",
        "    model.reset_classifier(num_classes=2)\n",
        "else:\n",
        "    # fallback if reset_classifier not available\n",
        "    in_features = model.classifier.in_features\n",
        "    model.classifier = nn.Linear(in_features, 2)\n",
        "\n",
        "# 4. Move to device (GPU if available, otherwise CPU)\n",
        "device = torch.device(\"cuda\" if torch.cuda.is_available() else \"cpu\")\n",
        "model.to(device)\n",
        "\n",
        "print(f\"✅ Loaded {model_name} with classifier reset to 2 classes\")\n"
      ],
      "metadata": {
        "colab": {
          "base_uri": "https://localhost:8080/"
        },
        "id": "jQUYQ5RZUdfY",
        "outputId": "d9ecd47a-26f2-4ac2-ec5a-5c05412b0d4b"
      },
      "execution_count": 19,
      "outputs": [
        {
          "output_type": "stream",
          "name": "stdout",
          "text": [
            "✅ Loaded mobilevitv2_050 with classifier reset to 2 classes\n"
          ]
        }
      ]
    },
    {
      "cell_type": "code",
      "source": [
        "# @title\n",
        "\"\"\" import torch\n",
        "import torch.nn as nn\n",
        "import torch.optim as optim\n",
        "from torch.utils.data import DataLoader, WeightedRandomSampler\n",
        "from collections import Counter\n",
        "from tqdm import tqdm\n",
        "import copy\n",
        "import os\n",
        "\n",
        "# -------------------------------\n",
        "# 1) Device\n",
        "device = torch.device(\"cuda\" if torch.cuda.is_available() else \"cpu\")\n",
        "print(\"Device:\", device)\n",
        "\n",
        "# -------------------------------\n",
        "# 2) Dataset & DataLoader (reuse your train_dataset and test_dataset)\n",
        "# Handle class imbalance with WeightedRandomSampler\n",
        "targets = [s[1] for s in train_dataset.samples]\n",
        "counts = Counter(targets)\n",
        "class_weights = {cls: 1.0 / count for cls, count in counts.items()}\n",
        "sample_weights = [class_weights[t] for t in targets]\n",
        "\n",
        "sampler = WeightedRandomSampler(sample_weights, num_samples=len(sample_weights), replacement=True)\n",
        "\n",
        "batch_size = 32\n",
        "train_loader = DataLoader(train_dataset, batch_size=batch_size, sampler=sampler, num_workers=2, pin_memory=True)\n",
        "test_loader  = DataLoader(test_dataset, batch_size=batch_size, shuffle=False, num_workers=2, pin_memory=True)\n",
        "\n",
        "# -------------------------------\n",
        "# 3) Loss, optimizer, scheduler\n",
        "criterion = nn.CrossEntropyLoss()  # class indices 0/1\n",
        "optimizer = optim.AdamW(model.parameters(), lr=2e-4, weight_decay=1e-4)\n",
        "scheduler = optim.lr_scheduler.CosineAnnealingLR(optimizer, T_max=10)  # adjust T_max for epochs\n",
        "\n",
        "# Mixed precision\n",
        "scaler = torch.cuda.amp.GradScaler() if torch.cuda.is_available() else None\n",
        "\n",
        "# -------------------------------\n",
        "# 4) Train & Validation functions\n",
        "def validate(model, loader):\n",
        "    model.eval()\n",
        "    running_loss, correct, total = 0.0, 0, 0\n",
        "    with torch.no_grad():\n",
        "        for images, labels in loader:\n",
        "            images, labels = images.to(device), labels.to(device)\n",
        "            outputs = model(images)\n",
        "            loss = criterion(outputs, labels)\n",
        "            running_loss += loss.item() * images.size(0)\n",
        "            preds = outputs.argmax(dim=1)\n",
        "            correct += (preds == labels).sum().item()\n",
        "            total += images.size(0)\n",
        "    return running_loss/total, correct/total\n",
        "\n",
        "def train_one_epoch(model, loader, optimizer, scaler=None):\n",
        "    model.train()\n",
        "    running_loss, correct, total = 0.0, 0, 0\n",
        "    loop = tqdm(loader, desc=\"Train\")\n",
        "    for images, labels in loop:\n",
        "        images, labels = images.to(device), labels.to(device)\n",
        "        optimizer.zero_grad()\n",
        "        if scaler is not None:\n",
        "            with torch.cuda.amp.autocast():\n",
        "                outputs = model(images)\n",
        "                loss = criterion(outputs, labels)\n",
        "            scaler.scale(loss).backward()\n",
        "            scaler.step(optimizer)\n",
        "            scaler.update()\n",
        "        else:\n",
        "            outputs = model(images)\n",
        "            loss = criterion(outputs, labels)\n",
        "            loss.backward()\n",
        "            optimizer.step()\n",
        "        running_loss += loss.item() * images.size(0)\n",
        "        preds = outputs.argmax(dim=1)\n",
        "        correct += (preds == labels).sum().item()\n",
        "        total += images.size(0)\n",
        "        loop.set_postfix(loss=running_loss/total, acc=100*correct/total)\n",
        "    return running_loss/total, correct/total\n",
        "\n",
        "# -------------------------------\n",
        "# 5) Training loop with metrics storage\n",
        "num_epochs = 10\n",
        "best_acc = 0.0\n",
        "best_model_wts = copy.deepcopy(model.state_dict())\n",
        "save_path = \"/content/drive/MyDrive/Dataset/mobilevitv2_050_best.pth\"\n",
        "\n",
        "# Lists to store metrics per epoch\n",
        "train_losses, train_accs = [], []\n",
        "val_losses, val_accs = [], []\n",
        "\n",
        "for epoch in range(num_epochs):\n",
        "    # Train\n",
        "    train_loss, train_acc = train_one_epoch(model, train_loader, optimizer, scaler)\n",
        "    # Validate\n",
        "    val_loss, val_acc = validate(model, test_loader)\n",
        "    # Scheduler step\n",
        "    scheduler.step()\n",
        "\n",
        "    # Store metrics\n",
        "    train_losses.append(train_loss)\n",
        "    train_accs.append(train_acc)\n",
        "    val_losses.append(val_loss)\n",
        "    val_accs.append(val_acc)\n",
        "\n",
        "    print(f\"Epoch {epoch+1}/{num_epochs}: Train Loss {train_loss:.4f} Acc {train_acc:.4f} | Val Loss {val_loss:.4f} Acc {val_acc:.4f}\")\n",
        "\n",
        "    # Save best model\n",
        "    if val_acc > best_acc:\n",
        "        best_acc = val_acc\n",
        "        best_model_wts = copy.deepcopy(model.state_dict())\n",
        "        torch.save({\n",
        "            'epoch': epoch+1,\n",
        "            'model_state_dict': model.state_dict(),\n",
        "            'optimizer_state_dict': optimizer.state_dict(),\n",
        "            'best_acc': best_acc\n",
        "        }, save_path)\n",
        "        print(f\"💾 Best model saved: {save_path}\")\n",
        "\n",
        "# Load best weights at the end\n",
        "model.load_state_dict(best_model_wts)\n",
        "print(\"✅ Training complete, best model loaded.\") \"\"\"\n"
      ],
      "metadata": {
        "id": "2jxtHJyJdVQq",
        "cellView": "form"
      },
      "execution_count": null,
      "outputs": []
    },
    {
      "cell_type": "code",
      "source": [
        "import torch\n",
        "import torch.nn as nn\n",
        "import torch.optim as optim\n",
        "from torch.utils.data import DataLoader, WeightedRandomSampler\n",
        "from collections import Counter\n",
        "from tqdm import tqdm\n",
        "from sklearn.metrics import f1_score, balanced_accuracy_score, classification_report, confusion_matrix\n",
        "import pandas as pd\n",
        "import seaborn as sns\n",
        "import matplotlib.pyplot as plt\n",
        "import os\n",
        "import copy\n",
        "import pickle\n",
        "\n",
        "# -------------------------------\n",
        "# Paths\n",
        "save_dir = \"/content/drive/MyDrive/Dataset\"\n",
        "best_model_path = os.path.join(save_dir, \"mobilevitv2_best.pth\")\n",
        "last_checkpoint_path = os.path.join(save_dir, \"mobilevitv2_last.pth\")\n",
        "history_path = os.path.join(save_dir, \"history.pth\")\n",
        "csv_log_path = os.path.join(save_dir, \"training_log.csv\")\n",
        "\n",
        "# -------------------------------\n",
        "# Device\n",
        "device = torch.device(\"cuda\" if torch.cuda.is_available() else \"cpu\")\n",
        "print(\"Device:\", device)\n",
        "\n",
        "# -------------------------------\n",
        "# DataLoader setup (assuming train_dataset and test_dataset are ready)\n",
        "# WeightedRandomSampler for class imbalance\n",
        "targets = [s[1] for s in train_dataset.samples]\n",
        "counts = Counter(targets)\n",
        "class_weights = {cls: 1.0 / count for cls, count in counts.items()}\n",
        "sample_weights = [class_weights[t] for t in targets]\n",
        "\n",
        "sampler = WeightedRandomSampler(sample_weights, num_samples=len(sample_weights), replacement=True)\n",
        "\n",
        "batch_size = 32\n",
        "train_loader = DataLoader(train_dataset, batch_size=batch_size, sampler=sampler, num_workers=2, pin_memory=True)\n",
        "val_loader = DataLoader(test_dataset, batch_size=batch_size, shuffle=False, num_workers=2, pin_memory=True)\n",
        "\n",
        "# -------------------------------\n",
        "# Loss, optimizer, scheduler\n",
        "criterion = nn.CrossEntropyLoss()\n",
        "optimizer = optim.AdamW(model.parameters(), lr=2e-4, weight_decay=1e-4)\n",
        "scheduler = optim.lr_scheduler.CosineAnnealingLR(optimizer, T_max=10)\n",
        "\n",
        "# Mixed precision if CUDA available\n",
        "scaler = torch.cuda.amp.GradScaler() if torch.cuda.is_available() else None\n",
        "\n",
        "# -------------------------------\n",
        "# Resume training if checkpoint exists\n",
        "start_epoch = 0\n",
        "num_epochs = 10\n",
        "best_val_acc = 0.0\n",
        "history = {\n",
        "    \"epoch\": [], \"train_loss\": [], \"train_acc\": [],\n",
        "    \"val_loss\": [], \"val_acc\": [],\n",
        "    \"val_macro_f1\": [], \"val_bal_acc\": []\n",
        "}\n",
        "best_model_wts = copy.deepcopy(model.state_dict())\n",
        "\n",
        "if os.path.exists(last_checkpoint_path):\n",
        "    print(f\"🔄 Resuming from last checkpoint: {last_checkpoint_path}\")\n",
        "    checkpoint = torch.load(last_checkpoint_path, map_location=device)\n",
        "    model.load_state_dict(checkpoint['model_state'])\n",
        "    optimizer.load_state_dict(checkpoint['optimizer_state'])\n",
        "    if 'history' in checkpoint:\n",
        "        history = checkpoint['history']\n",
        "    start_epoch = checkpoint['epoch']\n",
        "    best_val_acc = checkpoint.get('best_val_acc', 0.0)\n",
        "    print(f\"✅ Resumed at epoch {start_epoch}, best_val_acc: {best_val_acc:.4f}\")\n",
        "\n",
        "# -------------------------------\n",
        "# Training loop\n",
        "for epoch in range(start_epoch, num_epochs):\n",
        "    # ---- Train ----\n",
        "    model.train()\n",
        "    running_loss, correct, total = 0.0, 0, 0\n",
        "    loop = tqdm(train_loader, desc=f\"Epoch {epoch+1}/{num_epochs} [Train]\")\n",
        "    for images, labels in loop:\n",
        "        images, labels = images.to(device), labels.to(device)\n",
        "        optimizer.zero_grad()\n",
        "        if scaler is not None:\n",
        "            with torch.cuda.amp.autocast():\n",
        "                outputs = model(images)\n",
        "                loss = criterion(outputs, labels)\n",
        "            scaler.scale(loss).backward()\n",
        "            scaler.step(optimizer)\n",
        "            scaler.update()\n",
        "        else:\n",
        "            outputs = model(images)\n",
        "            loss = criterion(outputs, labels)\n",
        "            loss.backward()\n",
        "            optimizer.step()\n",
        "\n",
        "        running_loss += loss.item() * images.size(0)\n",
        "        preds = outputs.argmax(dim=1)\n",
        "        correct += (preds == labels).sum().item()\n",
        "        total += images.size(0)\n",
        "        loop.set_postfix(loss=running_loss/total, acc=100*correct/total)\n",
        "\n",
        "    train_loss = running_loss / len(train_loader.dataset)\n",
        "    train_acc = 100. * correct / total\n",
        "\n",
        "    # ---- Validation ----\n",
        "    model.eval()\n",
        "    val_loss, val_correct, val_total = 0.0, 0, 0\n",
        "    all_preds, all_labels = [], []\n",
        "    with torch.no_grad():\n",
        "        for images, labels in val_loader:\n",
        "            images, labels = images.to(device), labels.to(device)\n",
        "            outputs = model(images)\n",
        "            loss = criterion(outputs, labels)\n",
        "\n",
        "            val_loss += loss.item() * images.size(0)\n",
        "            preds = outputs.argmax(dim=1)\n",
        "            val_correct += (preds == labels).sum().item()\n",
        "            val_total += images.size(0)\n",
        "\n",
        "            all_preds.extend(preds.cpu().numpy())\n",
        "            all_labels.extend(labels.cpu().numpy())\n",
        "\n",
        "    val_loss /= len(val_loader.dataset)\n",
        "    val_acc = 100. * val_correct / val_total\n",
        "    val_macro_f1 = f1_score(all_labels, all_preds, average=\"macro\")\n",
        "    val_bal_acc = balanced_accuracy_score(all_labels, all_preds)\n",
        "\n",
        "    # ---- Save metrics ----\n",
        "    history[\"epoch\"].append(epoch+1)\n",
        "    history[\"train_loss\"].append(train_loss)\n",
        "    history[\"train_acc\"].append(train_acc)\n",
        "    history[\"val_loss\"].append(val_loss)\n",
        "    history[\"val_acc\"].append(val_acc)\n",
        "    history[\"val_macro_f1\"].append(val_macro_f1)\n",
        "    history[\"val_bal_acc\"].append(val_bal_acc)\n",
        "\n",
        "    print(f\"Epoch {epoch+1}/{num_epochs} | \"\n",
        "          f\"Train Loss: {train_loss:.4f}, Train Acc: {train_acc:.2f}% | \"\n",
        "          f\"Val Loss: {val_loss:.4f}, Val Acc: {val_acc:.2f}% | \"\n",
        "          f\"Macro-F1: {val_macro_f1:.4f}, Bal Acc: {val_bal_acc:.4f}\")\n",
        "\n",
        "    # ---- Save best model ----\n",
        "    if val_acc > best_val_acc:\n",
        "        best_val_acc = val_acc\n",
        "        best_model_wts = copy.deepcopy(model.state_dict())\n",
        "        torch.save(model.state_dict(), best_model_path)\n",
        "        print(f\"💾 Best model saved: {best_model_path}\")\n",
        "\n",
        "    # ---- Save last checkpoint ----\n",
        "    torch.save({\n",
        "        \"epoch\": epoch+1,\n",
        "        \"model_state\": model.state_dict(),\n",
        "        \"optimizer_state\": optimizer.state_dict(),\n",
        "        \"history\": history,\n",
        "        \"best_val_acc\": best_val_acc\n",
        "    }, last_checkpoint_path)\n",
        "\n",
        "    # ---- Save history ----\n",
        "    torch.save(history, history_path)\n",
        "\n",
        "    # ---- Save CSV log ----\n",
        "    pd.DataFrame(history).to_csv(csv_log_path, index=False)\n",
        "\n",
        "# -------------------------------\n",
        "# Load best model weights\n",
        "model.load_state_dict(best_model_wts)\n",
        "print(\"✅ Training complete, best model loaded.\")\n",
        "\n",
        "# -------------------------------\n",
        "# Final evaluation: per-class metrics & confusion matrix\n",
        "model.eval()\n",
        "all_preds, all_labels = [], []\n",
        "with torch.no_grad():\n",
        "    for images, labels in val_loader:\n",
        "        images, labels = images.to(device), labels.to(device)\n",
        "        outputs = model(images)\n",
        "        preds = outputs.argmax(dim=1)\n",
        "        all_preds.extend(preds.cpu().numpy())\n",
        "        all_labels.extend(labels.cpu().numpy())\n",
        "\n",
        "# Replace 'classes' with your dataset classes list: ['real', 'ai']\n",
        "classes = train_dataset.classes\n",
        "print(\"Classification Report:\")\n",
        "print(classification_report(all_labels, all_preds, target_names=classes))\n",
        "\n",
        "cm = confusion_matrix(all_labels, all_preds)\n",
        "plt.figure(figsize=(6,5))\n",
        "sns.heatmap(cm, annot=True, fmt=\"d\", cmap=\"Blues\", xticklabels=classes, yticklabels=classes)\n",
        "plt.xlabel(\"Predicted\")\n",
        "plt.ylabel(\"True\")\n",
        "plt.title(\"Confusion Matrix\")\n",
        "plt.show()\n",
        "\n",
        "\n",
        "\n",
        "# -------------------------------\n",
        "# Plot training history\n",
        "import matplotlib.pyplot as plt\n",
        "\n",
        "epochs = history[\"epoch\"]\n",
        "\n",
        "plt.figure(figsize=(16,5))\n",
        "\n",
        "# ---- Loss ----\n",
        "plt.subplot(1,2,1)\n",
        "plt.plot(epochs, history[\"train_loss\"], label=\"Train Loss\", marker='o')\n",
        "plt.plot(epochs, history[\"val_loss\"], label=\"Val Loss\", marker='o')\n",
        "plt.title(\"Loss over Epochs\")\n",
        "plt.xlabel(\"Epoch\")\n",
        "plt.ylabel(\"Loss\")\n",
        "plt.legend()\n",
        "plt.grid(True)\n",
        "\n",
        "# ---- Accuracy & F1 ----\n",
        "plt.subplot(1,2,2)\n",
        "plt.plot(epochs, history[\"train_acc\"], label=\"Train Acc\", marker='o')\n",
        "plt.plot(epochs, history[\"val_acc\"], label=\"Val Acc\", marker='o')\n",
        "plt.plot(epochs, history[\"val_macro_f1\"], label=\"Val Macro-F1\", marker='x')\n",
        "plt.plot(epochs, history[\"val_bal_acc\"], label=\"Val Balanced Acc\", marker='x')\n",
        "plt.title(\"Accuracy & F1 Metrics over Epochs\")\n",
        "plt.xlabel(\"Epoch\")\n",
        "plt.ylabel(\"Percentage / Score\")\n",
        "plt.legend()\n",
        "plt.grid(True)\n",
        "\n",
        "plt.tight_layout()\n",
        "plt.show()\n"
      ],
      "metadata": {
        "id": "CKrBcuUO8_In",
        "outputId": "d701ff40-5fc2-410e-d6cc-1447cdbfcf00",
        "colab": {
          "base_uri": "https://localhost:8080/",
          "height": 1000
        }
      },
      "execution_count": 21,
      "outputs": [
        {
          "output_type": "stream",
          "name": "stdout",
          "text": [
            "Device: cpu\n"
          ]
        },
        {
          "output_type": "stream",
          "name": "stderr",
          "text": [
            "\rEpoch 1/10 [Train]:   0%|          | 0/100 [00:00<?, ?it/s]/usr/local/lib/python3.12/dist-packages/torch/utils/data/dataloader.py:666: UserWarning: 'pin_memory' argument is set as true but no accelerator is found, then device pinned memory won't be used.\n",
            "  warnings.warn(warn_msg)\n",
            "Epoch 1/10 [Train]: 100%|██████████| 100/100 [36:18<00:00, 21.78s/it, acc=77.7, loss=0.545]\n"
          ]
        },
        {
          "output_type": "stream",
          "name": "stdout",
          "text": [
            "Epoch 1/10 | Train Loss: 0.5447, Train Acc: 77.74% | Val Loss: 0.3023, Val Acc: 90.25% | Macro-F1: 0.8700, Bal Acc: 0.8700\n",
            "💾 Best model saved: /content/drive/MyDrive/Dataset/mobilevitv2_best.pth\n"
          ]
        },
        {
          "output_type": "stream",
          "name": "stderr",
          "text": [
            "\rEpoch 2/10 [Train]:   0%|          | 0/100 [00:00<?, ?it/s]/usr/local/lib/python3.12/dist-packages/torch/utils/data/dataloader.py:666: UserWarning: 'pin_memory' argument is set as true but no accelerator is found, then device pinned memory won't be used.\n",
            "  warnings.warn(warn_msg)\n",
            "Epoch 2/10 [Train]: 100%|██████████| 100/100 [33:15<00:00, 19.95s/it, acc=93.2, loss=0.196]\n"
          ]
        },
        {
          "output_type": "stream",
          "name": "stdout",
          "text": [
            "Epoch 2/10 | Train Loss: 0.1961, Train Acc: 93.22% | Val Loss: 0.1396, Val Acc: 94.38% | Macro-F1: 0.9251, Bal Acc: 0.9258\n",
            "💾 Best model saved: /content/drive/MyDrive/Dataset/mobilevitv2_best.pth\n"
          ]
        },
        {
          "output_type": "stream",
          "name": "stderr",
          "text": [
            "\rEpoch 3/10 [Train]:   0%|          | 0/100 [00:00<?, ?it/s]/usr/local/lib/python3.12/dist-packages/torch/utils/data/dataloader.py:666: UserWarning: 'pin_memory' argument is set as true but no accelerator is found, then device pinned memory won't be used.\n",
            "  warnings.warn(warn_msg)\n",
            "Epoch 3/10 [Train]: 100%|██████████| 100/100 [33:45<00:00, 20.25s/it, acc=96.5, loss=0.105]\n"
          ]
        },
        {
          "output_type": "stream",
          "name": "stdout",
          "text": [
            "Epoch 3/10 | Train Loss: 0.1046, Train Acc: 96.50% | Val Loss: 0.1342, Val Acc: 94.25% | Macro-F1: 0.9236, Bal Acc: 0.9250\n"
          ]
        },
        {
          "output_type": "stream",
          "name": "stderr",
          "text": [
            "\rEpoch 4/10 [Train]:   0%|          | 0/100 [00:00<?, ?it/s]/usr/local/lib/python3.12/dist-packages/torch/utils/data/dataloader.py:666: UserWarning: 'pin_memory' argument is set as true but no accelerator is found, then device pinned memory won't be used.\n",
            "  warnings.warn(warn_msg)\n",
            "Epoch 4/10 [Train]: 100%|██████████| 100/100 [33:50<00:00, 20.31s/it, acc=97.5, loss=0.0726]\n"
          ]
        },
        {
          "output_type": "stream",
          "name": "stdout",
          "text": [
            "Epoch 4/10 | Train Loss: 0.0726, Train Acc: 97.47% | Val Loss: 0.1248, Val Acc: 95.38% | Macro-F1: 0.9386, Bal Acc: 0.9408\n",
            "💾 Best model saved: /content/drive/MyDrive/Dataset/mobilevitv2_best.pth\n"
          ]
        },
        {
          "output_type": "stream",
          "name": "stderr",
          "text": [
            "\rEpoch 5/10 [Train]:   0%|          | 0/100 [00:00<?, ?it/s]/usr/local/lib/python3.12/dist-packages/torch/utils/data/dataloader.py:666: UserWarning: 'pin_memory' argument is set as true but no accelerator is found, then device pinned memory won't be used.\n",
            "  warnings.warn(warn_msg)\n",
            "Epoch 5/10 [Train]: 100%|██████████| 100/100 [33:42<00:00, 20.23s/it, acc=98.3, loss=0.0469]\n"
          ]
        },
        {
          "output_type": "stream",
          "name": "stdout",
          "text": [
            "Epoch 5/10 | Train Loss: 0.0469, Train Acc: 98.31% | Val Loss: 0.1391, Val Acc: 94.75% | Macro-F1: 0.9305, Bal Acc: 0.9333\n"
          ]
        },
        {
          "output_type": "stream",
          "name": "stderr",
          "text": [
            "\rEpoch 6/10 [Train]:   0%|          | 0/100 [00:00<?, ?it/s]/usr/local/lib/python3.12/dist-packages/torch/utils/data/dataloader.py:666: UserWarning: 'pin_memory' argument is set as true but no accelerator is found, then device pinned memory won't be used.\n",
            "  warnings.warn(warn_msg)\n",
            "Epoch 6/10 [Train]: 100%|██████████| 100/100 [33:15<00:00, 19.95s/it, acc=98.6, loss=0.0438]\n"
          ]
        },
        {
          "output_type": "stream",
          "name": "stdout",
          "text": [
            "Epoch 6/10 | Train Loss: 0.0438, Train Acc: 98.56% | Val Loss: 0.1281, Val Acc: 95.62% | Macro-F1: 0.9421, Bal Acc: 0.9458\n",
            "💾 Best model saved: /content/drive/MyDrive/Dataset/mobilevitv2_best.pth\n"
          ]
        },
        {
          "output_type": "stream",
          "name": "stderr",
          "text": [
            "\rEpoch 7/10 [Train]:   0%|          | 0/100 [00:00<?, ?it/s]/usr/local/lib/python3.12/dist-packages/torch/utils/data/dataloader.py:666: UserWarning: 'pin_memory' argument is set as true but no accelerator is found, then device pinned memory won't be used.\n",
            "  warnings.warn(warn_msg)\n",
            "Epoch 7/10 [Train]: 100%|██████████| 100/100 [33:33<00:00, 20.13s/it, acc=98.9, loss=0.0363]\n"
          ]
        },
        {
          "output_type": "stream",
          "name": "stdout",
          "text": [
            "Epoch 7/10 | Train Loss: 0.0363, Train Acc: 98.91% | Val Loss: 0.1321, Val Acc: 95.25% | Macro-F1: 0.9365, Bal Acc: 0.9350\n"
          ]
        },
        {
          "output_type": "stream",
          "name": "stderr",
          "text": [
            "\rEpoch 8/10 [Train]:   0%|          | 0/100 [00:00<?, ?it/s]/usr/local/lib/python3.12/dist-packages/torch/utils/data/dataloader.py:666: UserWarning: 'pin_memory' argument is set as true but no accelerator is found, then device pinned memory won't be used.\n",
            "  warnings.warn(warn_msg)\n",
            "Epoch 8/10 [Train]: 100%|██████████| 100/100 [33:41<00:00, 20.22s/it, acc=99.2, loss=0.0231]\n"
          ]
        },
        {
          "output_type": "stream",
          "name": "stdout",
          "text": [
            "Epoch 8/10 | Train Loss: 0.0231, Train Acc: 99.16% | Val Loss: 0.1305, Val Acc: 96.00% | Macro-F1: 0.9459, Bal Acc: 0.9400\n",
            "💾 Best model saved: /content/drive/MyDrive/Dataset/mobilevitv2_best.pth\n"
          ]
        },
        {
          "output_type": "stream",
          "name": "stderr",
          "text": [
            "\rEpoch 9/10 [Train]:   0%|          | 0/100 [00:00<?, ?it/s]/usr/local/lib/python3.12/dist-packages/torch/utils/data/dataloader.py:666: UserWarning: 'pin_memory' argument is set as true but no accelerator is found, then device pinned memory won't be used.\n",
            "  warnings.warn(warn_msg)\n",
            "Epoch 9/10 [Train]: 100%|██████████| 100/100 [33:29<00:00, 20.10s/it, acc=99.4, loss=0.023]\n"
          ]
        },
        {
          "output_type": "stream",
          "name": "stdout",
          "text": [
            "Epoch 9/10 | Train Loss: 0.0230, Train Acc: 99.41% | Val Loss: 0.1411, Val Acc: 95.75% | Macro-F1: 0.9431, Bal Acc: 0.9417\n"
          ]
        },
        {
          "output_type": "stream",
          "name": "stderr",
          "text": [
            "\rEpoch 10/10 [Train]:   0%|          | 0/100 [00:00<?, ?it/s]/usr/local/lib/python3.12/dist-packages/torch/utils/data/dataloader.py:666: UserWarning: 'pin_memory' argument is set as true but no accelerator is found, then device pinned memory won't be used.\n",
            "  warnings.warn(warn_msg)\n",
            "Epoch 10/10 [Train]: 100%|██████████| 100/100 [34:25<00:00, 20.65s/it, acc=99.3, loss=0.0228]\n"
          ]
        },
        {
          "output_type": "stream",
          "name": "stdout",
          "text": [
            "Epoch 10/10 | Train Loss: 0.0228, Train Acc: 99.28% | Val Loss: 0.1435, Val Acc: 95.88% | Macro-F1: 0.9445, Bal Acc: 0.9408\n",
            "✅ Training complete, best model loaded.\n"
          ]
        },
        {
          "output_type": "stream",
          "name": "stderr",
          "text": [
            "/usr/local/lib/python3.12/dist-packages/torch/utils/data/dataloader.py:666: UserWarning: 'pin_memory' argument is set as true but no accelerator is found, then device pinned memory won't be used.\n",
            "  warnings.warn(warn_msg)\n"
          ]
        },
        {
          "output_type": "stream",
          "name": "stdout",
          "text": [
            "Classification Report:\n",
            "              precision    recall  f1-score   support\n",
            "\n",
            "          ai       0.97      0.98      0.97       600\n",
            "        real       0.94      0.90      0.92       200\n",
            "\n",
            "    accuracy                           0.96       800\n",
            "   macro avg       0.95      0.94      0.95       800\n",
            "weighted avg       0.96      0.96      0.96       800\n",
            "\n"
          ]
        },
        {
          "output_type": "display_data",
          "data": {
            "text/plain": [
              "<Figure size 600x500 with 2 Axes>"
            ],
            "image/png": "[encoded data removed]"
          },
          "metadata": {}
        },
        {
          "output_type": "display_data",
          "data": {
            "text/plain": [
              "<Figure size 1600x500 with 2 Axes>"
            ],
            "image/png": "[encoded data removed]"
          },
          "metadata": {}
        }
      ]
    }
  ]
}