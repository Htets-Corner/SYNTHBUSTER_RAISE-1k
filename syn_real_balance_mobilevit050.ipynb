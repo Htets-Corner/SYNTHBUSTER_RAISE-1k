{
  "nbformat": 4,
  "nbformat_minor": 0,
  "metadata": {
    "colab": {
      "provenance": [],
      "authorship_tag": "ABX9TyNrt6SYLuzipqLONrz8dV0v",
      "include_colab_link": true
    },
    "kernelspec": {
      "name": "python3",
      "display_name": "Python 3"
    },
    "language_info": {
      "name": "python"
    },
    "widgets": {
      "application/vnd.jupyter.widget-state+json": {
        "2b4df3e708244f55ad7352e81390041a": {
          "model_module": "@jupyter-widgets/controls",
          "model_name": "HBoxModel",
          "model_module_version": "1.5.0",
          "state": {
            "_dom_classes": [],
            "_model_module": "@jupyter-widgets/controls",
            "_model_module_version": "1.5.0",
            "_model_name": "HBoxModel",
            "_view_count": null,
            "_view_module": "@jupyter-widgets/controls",
            "_view_module_version": "1.5.0",
            "_view_name": "HBoxView",
            "box_style": "",
            "children": [
              "IPY_MODEL_757ed5e7fda149978728318d86e61ecb",
              "IPY_MODEL_048184636f7e4052a1c529345bd5d5a7",
              "IPY_MODEL_4cd846faa1ab48d59559e04469a9a247"
            ],
            "layout": "IPY_MODEL_9a258eb02455405ba04fea78f70e4938"
          }
        },
        "757ed5e7fda149978728318d86e61ecb": {
          "model_module": "@jupyter-widgets/controls",
          "model_name": "HTMLModel",
          "model_module_version": "1.5.0",
          "state": {
            "_dom_classes": [],
            "_model_module": "@jupyter-widgets/controls",
            "_model_module_version": "1.5.0",
            "_model_name": "HTMLModel",
            "_view_count": null,
            "_view_module": "@jupyter-widgets/controls",
            "_view_module_version": "1.5.0",
            "_view_name": "HTMLView",
            "description": "",
            "description_tooltip": null,
            "layout": "IPY_MODEL_3e426d1f46404d59b09e1552d64af27f",
            "placeholder": "​",
            "style": "IPY_MODEL_f2c3df6326714bfcbbbf94768cbe0751",
            "value": "model.safetensors: 100%"
          }
        },
        "048184636f7e4052a1c529345bd5d5a7": {
          "model_module": "@jupyter-widgets/controls",
          "model_name": "FloatProgressModel",
          "model_module_version": "1.5.0",
          "state": {
            "_dom_classes": [],
            "_model_module": "@jupyter-widgets/controls",
            "_model_module_version": "1.5.0",
            "_model_name": "FloatProgressModel",
            "_view_count": null,
            "_view_module": "@jupyter-widgets/controls",
            "_view_module_version": "1.5.0",
            "_view_name": "ProgressView",
            "bar_style": "success",
            "description": "",
            "description_tooltip": null,
            "layout": "IPY_MODEL_1333d62e59c54d9d8ad9c4ae27482093",
            "max": 5540972,
            "min": 0,
            "orientation": "horizontal",
            "style": "IPY_MODEL_0f60fb2f29554ae585f247667cb316c7",
            "value": 5540972
          }
        },
        "4cd846faa1ab48d59559e04469a9a247": {
          "model_module": "@jupyter-widgets/controls",
          "model_name": "HTMLModel",
          "model_module_version": "1.5.0",
          "state": {
            "_dom_classes": [],
            "_model_module": "@jupyter-widgets/controls",
            "_model_module_version": "1.5.0",
            "_model_name": "HTMLModel",
            "_view_count": null,
            "_view_module": "@jupyter-widgets/controls",
            "_view_module_version": "1.5.0",
            "_view_name": "HTMLView",
            "description": "",
            "description_tooltip": null,
            "layout": "IPY_MODEL_5ddfc8874df24b9ba1104f4f8136a5ab",
            "placeholder": "​",
            "style": "IPY_MODEL_ee172249f5184dfdbd72c43695605c12",
            "value": " 5.54M/5.54M [00:00&lt;00:00, 5.76MB/s]"
          }
        },
        "9a258eb02455405ba04fea78f70e4938": {
          "model_module": "@jupyter-widgets/base",
          "model_name": "LayoutModel",
          "model_module_version": "1.2.0",
          "state": {
            "_model_module": "@jupyter-widgets/base",
            "_model_module_version": "1.2.0",
            "_model_name": "LayoutModel",
            "_view_count": null,
            "_view_module": "@jupyter-widgets/base",
            "_view_module_version": "1.2.0",
            "_view_name": "LayoutView",
            "align_content": null,
            "align_items": null,
            "align_self": null,
            "border": null,
            "bottom": null,
            "display": null,
            "flex": null,
            "flex_flow": null,
            "grid_area": null,
            "grid_auto_columns": null,
            "grid_auto_flow": null,
            "grid_auto_rows": null,
            "grid_column": null,
            "grid_gap": null,
            "grid_row": null,
            "grid_template_areas": null,
            "grid_template_columns": null,
            "grid_template_rows": null,
            "height": null,
            "justify_content": null,
            "justify_items": null,
            "left": null,
            "margin": null,
            "max_height": null,
            "max_width": null,
            "min_height": null,
            "min_width": null,
            "object_fit": null,
            "object_position": null,
            "order": null,
            "overflow": null,
            "overflow_x": null,
            "overflow_y": null,
            "padding": null,
            "right": null,
            "top": null,
            "visibility": null,
            "width": null
          }
        },
        "3e426d1f46404d59b09e1552d64af27f": {
          "model_module": "@jupyter-widgets/base",
          "model_name": "LayoutModel",
          "model_module_version": "1.2.0",
          "state": {
            "_model_module": "@jupyter-widgets/base",
            "_model_module_version": "1.2.0",
            "_model_name": "LayoutModel",
            "_view_count": null,
            "_view_module": "@jupyter-widgets/base",
            "_view_module_version": "1.2.0",
            "_view_name": "LayoutView",
            "align_content": null,
            "align_items": null,
            "align_self": null,
            "border": null,
            "bottom": null,
            "display": null,
            "flex": null,
            "flex_flow": null,
            "grid_area": null,
            "grid_auto_columns": null,
            "grid_auto_flow": null,
            "grid_auto_rows": null,
            "grid_column": null,
            "grid_gap": null,
            "grid_row": null,
            "grid_template_areas": null,
            "grid_template_columns": null,
            "grid_template_rows": null,
            "height": null,
            "justify_content": null,
            "justify_items": null,
            "left": null,
            "margin": null,
            "max_height": null,
            "max_width": null,
            "min_height": null,
            "min_width": null,
            "object_fit": null,
            "object_position": null,
            "order": null,
            "overflow": null,
            "overflow_x": null,
            "overflow_y": null,
            "padding": null,
            "right": null,
            "top": null,
            "visibility": null,
            "width": null
          }
        },
        "f2c3df6326714bfcbbbf94768cbe0751": {
          "model_module": "@jupyter-widgets/controls",
          "model_name": "DescriptionStyleModel",
          "model_module_version": "1.5.0",
          "state": {
            "_model_module": "@jupyter-widgets/controls",
            "_model_module_version": "1.5.0",
            "_model_name": "DescriptionStyleModel",
            "_view_count": null,
            "_view_module": "@jupyter-widgets/base",
            "_view_module_version": "1.2.0",
            "_view_name": "StyleView",
            "description_width": ""
          }
        },
        "1333d62e59c54d9d8ad9c4ae27482093": {
          "model_module": "@jupyter-widgets/base",
          "model_name": "LayoutModel",
          "model_module_version": "1.2.0",
          "state": {
            "_model_module": "@jupyter-widgets/base",
            "_model_module_version": "1.2.0",
            "_model_name": "LayoutModel",
            "_view_count": null,
            "_view_module": "@jupyter-widgets/base",
            "_view_module_version": "1.2.0",
            "_view_name": "LayoutView",
            "align_content": null,
            "align_items": null,
            "align_self": null,
            "border": null,
            "bottom": null,
            "display": null,
            "flex": null,
            "flex_flow": null,
            "grid_area": null,
            "grid_auto_columns": null,
            "grid_auto_flow": null,
            "grid_auto_rows": null,
            "grid_column": null,
            "grid_gap": null,
            "grid_row": null,
            "grid_template_areas": null,
            "grid_template_columns": null,
            "grid_template_rows": null,
            "height": null,
            "justify_content": null,
            "justify_items": null,
            "left": null,
            "margin": null,
            "max_height": null,
            "max_width": null,
            "min_height": null,
            "min_width": null,
            "object_fit": null,
            "object_position": null,
            "order": null,
            "overflow": null,
            "overflow_x": null,
            "overflow_y": null,
            "padding": null,
            "right": null,
            "top": null,
            "visibility": null,
            "width": null
          }
        },
        "0f60fb2f29554ae585f247667cb316c7": {
          "model_module": "@jupyter-widgets/controls",
          "model_name": "ProgressStyleModel",
          "model_module_version": "1.5.0",
          "state": {
            "_model_module": "@jupyter-widgets/controls",
            "_model_module_version": "1.5.0",
            "_model_name": "ProgressStyleModel",
            "_view_count": null,
            "_view_module": "@jupyter-widgets/base",
            "_view_module_version": "1.2.0",
            "_view_name": "StyleView",
            "bar_color": null,
            "description_width": ""
          }
        },
        "5ddfc8874df24b9ba1104f4f8136a5ab": {
          "model_module": "@jupyter-widgets/base",
          "model_name": "LayoutModel",
          "model_module_version": "1.2.0",
          "state": {
            "_model_module": "@jupyter-widgets/base",
            "_model_module_version": "1.2.0",
            "_model_name": "LayoutModel",
            "_view_count": null,
            "_view_module": "@jupyter-widgets/base",
            "_view_module_version": "1.2.0",
            "_view_name": "LayoutView",
            "align_content": null,
            "align_items": null,
            "align_self": null,
            "border": null,
            "bottom": null,
            "display": null,
            "flex": null,
            "flex_flow": null,
            "grid_area": null,
            "grid_auto_columns": null,
            "grid_auto_flow": null,
            "grid_auto_rows": null,
            "grid_column": null,
            "grid_gap": null,
            "grid_row": null,
            "grid_template_areas": null,
            "grid_template_columns": null,
            "grid_template_rows": null,
            "height": null,
            "justify_content": null,
            "justify_items": null,
            "left": null,
            "margin": null,
            "max_height": null,
            "max_width": null,
            "min_height": null,
            "min_width": null,
            "object_fit": null,
            "object_position": null,
            "order": null,
            "overflow": null,
            "overflow_x": null,
            "overflow_y": null,
            "padding": null,
            "right": null,
            "top": null,
            "visibility": null,
            "width": null
          }
        },
        "ee172249f5184dfdbd72c43695605c12": {
          "model_module": "@jupyter-widgets/controls",
          "model_name": "DescriptionStyleModel",
          "model_module_version": "1.5.0",
          "state": {
            "_model_module": "@jupyter-widgets/controls",
            "_model_module_version": "1.5.0",
            "_model_name": "DescriptionStyleModel",
            "_view_count": null,
            "_view_module": "@jupyter-widgets/base",
            "_view_module_version": "1.2.0",
            "_view_name": "StyleView",
            "description_width": ""
          }
        }
      }
    }
  },
  "cells": [
    {
      "cell_type": "markdown",
      "metadata": {
        "id": "view-in-github",
        "colab_type": "text"
      },
      "source": [
        "<a href=\"https://colab.research.google.com/github/Htets-Corner/SYNTHBUSTER_RAISE-1k/blob/main/syn_real_balance_mobilevit050.ipynb\" target=\"_parent\"><img src=\"https://colab.research.google.com/assets/colab-badge.svg\" alt=\"Open In Colab\"/></a>"
      ]
    },
    {
      "cell_type": "code",
      "source": [
        "import os\n",
        "import shutil\n",
        "import random\n",
        "from tqdm import tqdm\n",
        "from google.colab import drive\n",
        "\n",
        "# Mount Google Drive\n",
        "drive.mount('/content/drive')\n",
        "\n",
        "# Paths\n",
        "ai_root = \"/content/drive/MyDrive/synthbuster_subset\"   # Source: your sampled AI images\n",
        "dataset_root = \"/content/drive/MyDrive/synthbuster\"     # Destination structured dataset\n",
        "train_dir = os.path.join(dataset_root, \"train\", \"ai\")\n",
        "test_dir = os.path.join(dataset_root, \"test\", \"ai\")\n",
        "\n",
        "# Create train/test dirs\n",
        "os.makedirs(train_dir, exist_ok=True)\n",
        "os.makedirs(test_dir, exist_ok=True)\n",
        "\n",
        "# Loop through each subfolder in AI root\n",
        "ai_folders = [f for f in os.listdir(ai_root) if os.path.isdir(os.path.join(ai_root, f))]\n",
        "\n",
        "for folder in ai_folders:\n",
        "    folder_path = os.path.join(ai_root, folder)\n",
        "\n",
        "    # Take only PNG files\n",
        "    imgs = [f for f in os.listdir(folder_path) if f.lower().endswith(\".png\")]\n",
        "    imgs.sort()  # keep consistent order\n",
        "    random.shuffle(imgs)  # shuffle to avoid bias\n",
        "\n",
        "    # Split 80/20\n",
        "    split_idx = int(0.8 * len(imgs))\n",
        "    train_imgs, test_imgs = imgs[:split_idx], imgs[split_idx:]\n",
        "\n",
        "    # Copy train images\n",
        "    for img in tqdm(train_imgs, desc=f\"Copying Train {folder}\"):\n",
        "        src = os.path.join(folder_path, img)\n",
        "        new_name = f\"{folder}_{img}\"   # keep folder prefix to avoid name clashes\n",
        "        dst = os.path.join(train_dir, new_name)\n",
        "        if not os.path.exists(dst):\n",
        "            shutil.copy(src, dst)\n",
        "\n",
        "    # Copy test images\n",
        "    for img in tqdm(test_imgs, desc=f\"Copying Test {folder}\"):\n",
        "        src = os.path.join(folder_path, img)\n",
        "        new_name = f\"{folder}_{img}\"\n",
        "        dst = os.path.join(test_dir, new_name)\n",
        "        if not os.path.exists(dst):\n",
        "            shutil.copy(src, dst)\n",
        "\n",
        "    print(f\"✅ {folder}: Train={len(train_imgs)}, Test={len(test_imgs)}\")\n",
        "\n",
        "print(\"🎯 Finished splitting synthbuster_subset into train/test\")\n",
        "print(f\"Train folder -> {train_dir}\")\n",
        "print(f\"Test folder  -> {test_dir}\")\n"
      ],
      "metadata": {
        "id": "0OTc05f4kU1_",
        "colab": {
          "base_uri": "https://localhost:8080/"
        },
        "outputId": "532ba5ae-4f4f-460c-e487-a0e7a0f40fb0"
      },
      "execution_count": null,
      "outputs": [
        {
          "output_type": "stream",
          "name": "stdout",
          "text": [
            "Mounted at /content/drive\n"
          ]
        },
        {
          "output_type": "stream",
          "name": "stderr",
          "text": [
            "Copying Train dalle2: 100%|██████████| 80/80 [00:10<00:00,  7.58it/s]\n",
            "Copying Test dalle2: 100%|██████████| 20/20 [00:01<00:00, 13.00it/s]\n"
          ]
        },
        {
          "output_type": "stream",
          "name": "stdout",
          "text": [
            "✅ dalle2: Train=80, Test=20\n"
          ]
        },
        {
          "output_type": "stream",
          "name": "stderr",
          "text": [
            "Copying Train dalle3: 100%|██████████| 80/80 [00:08<00:00,  9.84it/s]\n",
            "Copying Test dalle3: 100%|██████████| 20/20 [00:00<00:00, 37.80it/s]\n"
          ]
        },
        {
          "output_type": "stream",
          "name": "stdout",
          "text": [
            "✅ dalle3: Train=80, Test=20\n"
          ]
        },
        {
          "output_type": "stream",
          "name": "stderr",
          "text": [
            "Copying Train firefly: 100%|██████████| 80/80 [00:04<00:00, 17.55it/s]\n",
            "Copying Test firefly: 100%|██████████| 20/20 [00:00<00:00, 65.21it/s]\n"
          ]
        },
        {
          "output_type": "stream",
          "name": "stdout",
          "text": [
            "✅ firefly: Train=80, Test=20\n"
          ]
        },
        {
          "output_type": "stream",
          "name": "stderr",
          "text": [
            "Copying Train glide: 100%|██████████| 80/80 [00:01<00:00, 42.91it/s]\n",
            "Copying Test glide: 100%|██████████| 20/20 [00:00<00:00, 62.52it/s]\n"
          ]
        },
        {
          "output_type": "stream",
          "name": "stdout",
          "text": [
            "✅ glide: Train=80, Test=20\n"
          ]
        },
        {
          "output_type": "stream",
          "name": "stderr",
          "text": [
            "Copying Train midjourney-v5: 100%|██████████| 80/80 [00:06<00:00, 11.78it/s]\n",
            "Copying Test midjourney-v5: 100%|██████████| 20/20 [00:01<00:00, 11.85it/s]\n"
          ]
        },
        {
          "output_type": "stream",
          "name": "stdout",
          "text": [
            "✅ midjourney-v5: Train=80, Test=20\n"
          ]
        },
        {
          "output_type": "stream",
          "name": "stderr",
          "text": [
            "Copying Train stable-diffusion-1-3: 100%|██████████| 80/80 [00:04<00:00, 18.42it/s]\n",
            "Copying Test stable-diffusion-1-3: 100%|██████████| 20/20 [00:01<00:00, 13.62it/s]\n"
          ]
        },
        {
          "output_type": "stream",
          "name": "stdout",
          "text": [
            "✅ stable-diffusion-1-3: Train=80, Test=20\n"
          ]
        },
        {
          "output_type": "stream",
          "name": "stderr",
          "text": [
            "Copying Train stable-diffusion-1-4: 100%|██████████| 80/80 [00:08<00:00,  9.07it/s]\n",
            "Copying Test stable-diffusion-1-4: 100%|██████████| 20/20 [00:01<00:00, 13.25it/s]\n"
          ]
        },
        {
          "output_type": "stream",
          "name": "stdout",
          "text": [
            "✅ stable-diffusion-1-4: Train=80, Test=20\n"
          ]
        },
        {
          "output_type": "stream",
          "name": "stderr",
          "text": [
            "Copying Train stable-diffusion-2: 100%|██████████| 80/80 [00:06<00:00, 12.70it/s]\n",
            "Copying Test stable-diffusion-2: 100%|██████████| 20/20 [00:03<00:00,  5.54it/s]\n"
          ]
        },
        {
          "output_type": "stream",
          "name": "stdout",
          "text": [
            "✅ stable-diffusion-2: Train=80, Test=20\n"
          ]
        },
        {
          "output_type": "stream",
          "name": "stderr",
          "text": [
            "Copying Train stable-diffusion-xl: 100%|██████████| 160/160 [00:08<00:00, 18.48it/s]\n",
            "Copying Test stable-diffusion-xl: 100%|██████████| 40/40 [00:00<00:00, 55.72it/s]"
          ]
        },
        {
          "output_type": "stream",
          "name": "stdout",
          "text": [
            "✅ stable-diffusion-xl: Train=160, Test=40\n",
            "🎯 Finished splitting synthbuster_subset into train/test\n",
            "Train folder -> /content/drive/MyDrive/synthbuster/train/ai\n",
            "Test folder  -> /content/drive/MyDrive/synthbuster/test/ai\n"
          ]
        },
        {
          "output_type": "stream",
          "name": "stderr",
          "text": [
            "\n"
          ]
        }
      ]
    },
    {
      "cell_type": "code",
      "source": [
        "from google.colab import drive\n",
        "\n",
        "# Mount Google Drive\n",
        "drive.mount('/content/drive')"
      ],
      "metadata": {
        "colab": {
          "base_uri": "https://localhost:8080/"
        },
        "id": "Qudps1GUf_wG",
        "outputId": "fc5834b9-df4a-4ea7-8049-80cc84296ecc"
      },
      "execution_count": 2,
      "outputs": [
        {
          "output_type": "stream",
          "name": "stdout",
          "text": [
            "Mounted at /content/drive\n"
          ]
        }
      ]
    },
    {
      "cell_type": "code",
      "source": [
        "import os\n",
        "\n",
        "train_ai_dir = \"/content/drive/MyDrive/synthbuster/train/real\"\n",
        "test_ai_dir = \"/content/drive/MyDrive/synthbuster/test/real\"\n",
        "\n",
        "# Count PNG files in train and test\n",
        "train_ai_count = len([f for f in os.listdir(train_ai_dir) if f.lower().endswith(\".png\")])\n",
        "test_ai_count = len([f for f in os.listdir(test_ai_dir) if f.lower().endswith(\".png\")])\n",
        "\n",
        "print(f\"Train AI images: {train_ai_count}\")\n",
        "print(f\"Test AI images: {test_ai_count}\")\n",
        "print(f\"Total AI images: {train_ai_count + test_ai_count}\")\n",
        "\n"
      ],
      "metadata": {
        "colab": {
          "base_uri": "https://localhost:8080/"
        },
        "id": "NZKCRTGjrQeY",
        "outputId": "c330f5df-d5a4-4932-d231-45f27993f782"
      },
      "execution_count": 3,
      "outputs": [
        {
          "output_type": "stream",
          "name": "stdout",
          "text": [
            "Train AI images: 799\n",
            "Test AI images: 200\n",
            "Total AI images: 999\n"
          ]
        }
      ]
    },
    {
      "cell_type": "code",
      "source": [
        "# Step 0: Data Preparation\n",
        "\n",
        "# 1. Mount Google Drive\n",
        "#from google.colab import drive\n",
        "#drive.mount('/content/drive')\n",
        "\n",
        "# 2. Define dataset path\n",
        "import os\n",
        "\n",
        "# Update this path if needed\n",
        "dataset_path = \"/content/drive/MyDrive/synthbuster\"\n",
        "\n",
        "train_dir = os.path.join(dataset_path, \"train\")\n",
        "test_dir  = os.path.join(dataset_path, \"test\")\n",
        "\n",
        "print(\"Train path:\", train_dir)\n",
        "print(\"Test path:\", test_dir)\n",
        "\n",
        "# 3. Import necessary libraries\n",
        "import torch\n",
        "from torchvision import datasets, transforms\n",
        "from torch.utils.data import DataLoader\n",
        "\n",
        "# 4. Define image transformations (resize, normalization)\n",
        "# MobileViT usually works with 256x256 or 224x224 input\n",
        "image_size = 256\n",
        "\n",
        "transform = transforms.Compose([\n",
        "    transforms.Resize((image_size, image_size)),\n",
        "    transforms.ToTensor(),\n",
        "    transforms.Normalize(\n",
        "        mean=[0.5, 0.5, 0.5],   # normalize to [-1, 1]\n",
        "        std=[0.5, 0.5, 0.5]\n",
        "    )\n",
        "])\n",
        "\n",
        "# 5. Load train and test datasets\n",
        "#train_dataset = datasets.ImageFolder(root=train_dir, transform=transform)\n",
        "#test_dataset  = datasets.ImageFolder(root=test_dir, transform=transform)\n",
        "\n",
        "from torchvision.datasets import ImageFolder\n",
        "\n",
        "valid_exts = ('.jpg', '.jpeg', '.png', '.PNG', '.bmp', '.tif', '.tiff', '.webp')\n",
        "\n",
        "train_dataset = ImageFolder(\n",
        "    root=train_dir,\n",
        "    transform=transform,\n",
        "    is_valid_file=lambda path: path.lower().endswith(valid_exts)\n",
        ")\n",
        "\n",
        "test_dataset = ImageFolder(\n",
        "    root=test_dir,\n",
        "    transform=transform,\n",
        "    is_valid_file=lambda path: path.lower().endswith(valid_exts)\n",
        ")\n",
        "\n",
        "\n",
        "# 6. Create DataLoaders\n",
        "batch_size = 32\n",
        "#batch_size = 16\n",
        "\n",
        "train_loader = DataLoader(train_dataset, batch_size=batch_size, shuffle=True, num_workers=2)\n",
        "test_loader  = DataLoader(test_dataset, batch_size=batch_size, shuffle=False, num_workers=2)\n",
        "\n",
        "# 7. Check class labels\n",
        "classes = train_dataset.classes\n",
        "print(\"Classes:\", classes)\n",
        "print(\"Train size:\", len(train_dataset))\n",
        "print(\"Test size:\", len(test_dataset))"
      ],
      "metadata": {
        "colab": {
          "base_uri": "https://localhost:8080/"
        },
        "id": "D-yOGgNfxFZQ",
        "outputId": "5c7f9306-444d-42bc-ffe9-26418a1174c0"
      },
      "execution_count": 4,
      "outputs": [
        {
          "output_type": "stream",
          "name": "stdout",
          "text": [
            "Train path: /content/drive/MyDrive/synthbuster/train\n",
            "Test path: /content/drive/MyDrive/synthbuster/test\n",
            "Classes: ['ai', 'real']\n",
            "Train size: 1599\n",
            "Test size: 400\n"
          ]
        }
      ]
    },
    {
      "cell_type": "code",
      "source": [
        "# Colab cell 3: load model from timm and adapt classifier\n",
        "import timm\n",
        "import torch\n",
        "import torch.nn as nn\n",
        "\n",
        "device = torch.device(\"cuda\" if torch.cuda.is_available() else \"cpu\")\n",
        "print(\"Device:\", device)\n",
        "\n",
        "model_name = \"mobilevitv2_050\"   # you can change to other mobilevit variants available in timm\n",
        "model = timm.create_model(model_name, pretrained=True)\n",
        "\n",
        "# adapt head to match num classes\n",
        "num_classes = len(train_dataset.classes)\n",
        "try:\n",
        "    model.reset_classifier(num_classes=num_classes)\n",
        "except Exception:\n",
        "    # fallback: try to locate classifier attribute\n",
        "    if hasattr(model, \"classifier\"):\n",
        "        in_features = model.classifier.in_features\n",
        "        model.classifier = nn.Linear(in_features, num_classes)\n",
        "    elif hasattr(model, \"head\"):\n",
        "        in_features = model.head.in_features\n",
        "        model.head = nn.Linear(in_features, num_classes)\n",
        "    else:\n",
        "        raise RuntimeError(\"Cannot find classifier head to replace automatically. Inspect model structure.\")\n",
        "\n",
        "model = model.to(device)\n",
        "print(f\"Loaded {model_name} -> classifier set to {num_classes} classes\")\n"
      ],
      "metadata": {
        "colab": {
          "base_uri": "https://localhost:8080/",
          "height": 208,
          "referenced_widgets": [
            "2b4df3e708244f55ad7352e81390041a",
            "757ed5e7fda149978728318d86e61ecb",
            "048184636f7e4052a1c529345bd5d5a7",
            "4cd846faa1ab48d59559e04469a9a247",
            "9a258eb02455405ba04fea78f70e4938",
            "3e426d1f46404d59b09e1552d64af27f",
            "f2c3df6326714bfcbbbf94768cbe0751",
            "1333d62e59c54d9d8ad9c4ae27482093",
            "0f60fb2f29554ae585f247667cb316c7",
            "5ddfc8874df24b9ba1104f4f8136a5ab",
            "ee172249f5184dfdbd72c43695605c12"
          ]
        },
        "id": "15xwkMEIxh7Y",
        "outputId": "b6ca9648-7a9e-4e8b-e4c8-e60b27d6dba5"
      },
      "execution_count": 5,
      "outputs": [
        {
          "output_type": "stream",
          "name": "stdout",
          "text": [
            "Device: cpu\n"
          ]
        },
        {
          "output_type": "stream",
          "name": "stderr",
          "text": [
            "/usr/local/lib/python3.12/dist-packages/huggingface_hub/utils/_auth.py:94: UserWarning: \n",
            "The secret `HF_TOKEN` does not exist in your Colab secrets.\n",
            "To authenticate with the Hugging Face Hub, create a token in your settings tab (https://huggingface.co/settings/tokens), set it as secret in your Google Colab and restart your session.\n",
            "You will be able to reuse this secret in all of your notebooks.\n",
            "Please note that authentication is recommended but still optional to access public models or datasets.\n",
            "  warnings.warn(\n"
          ]
        },
        {
          "output_type": "display_data",
          "data": {
            "text/plain": [
              "model.safetensors:   0%|          | 0.00/5.54M [00:00<?, ?B/s]"
            ],
            "application/vnd.jupyter.widget-view+json": {
              "version_major": 2,
              "version_minor": 0,
              "model_id": "2b4df3e708244f55ad7352e81390041a"
            }
          },
          "metadata": {}
        },
        {
          "output_type": "stream",
          "name": "stdout",
          "text": [
            "Loaded mobilevitv2_050 -> classifier set to 2 classes\n"
          ]
        }
      ]
    },
    {
      "cell_type": "code",
      "source": [
        "# Colab cell 4: training loop + checkpointing + history saving\n",
        "import torch, os, copy\n",
        "import torch.nn as nn\n",
        "import torch.optim as optim\n",
        "from tqdm import tqdm\n",
        "from sklearn.metrics import f1_score, balanced_accuracy_score, classification_report, confusion_matrix\n",
        "import pandas as pd\n",
        "import seaborn as sns\n",
        "import matplotlib.pyplot as plt\n",
        "\n",
        "# Paths to save stuff in Drive\n",
        "save_dir = \"/content/drive/MyDrive/synthbuster/checkpoints\"\n",
        "os.makedirs(save_dir, exist_ok=True)\n",
        "best_model_path = os.path.join(save_dir, \"mobilevitv2_best.pth\")\n",
        "last_checkpoint_path = os.path.join(save_dir, \"mobilevitv2_last.pth\")\n",
        "history_path = os.path.join(save_dir, \"history.pth\")\n",
        "csv_log_path = os.path.join(save_dir, \"training_log.csv\")\n",
        "\n",
        "# Training settings\n",
        "criterion = nn.CrossEntropyLoss()\n",
        "optimizer = optim.AdamW(model.parameters(), lr=2e-4, weight_decay=1e-4)\n",
        "num_epochs = 10\n",
        "scheduler = optim.lr_scheduler.CosineAnnealingLR(optimizer, T_max=max(1, num_epochs))\n",
        "scaler = torch.cuda.amp.GradScaler() if torch.cuda.is_available() else None\n",
        "\n",
        "# resume if checkpoint exists\n",
        "start_epoch = 0\n",
        "best_val_acc = 0.0\n",
        "history = {\"epoch\":[], \"train_loss\":[], \"train_acc\":[], \"val_loss\":[], \"val_acc\":[], \"val_macro_f1\":[], \"val_bal_acc\":[]}\n",
        "best_model_wts = copy.deepcopy(model.state_dict())\n",
        "\n",
        "if os.path.exists(last_checkpoint_path):\n",
        "    print(\"Resuming from checkpoint:\", last_checkpoint_path)\n",
        "    ckpt = torch.load(last_checkpoint_path, map_location=device)\n",
        "    model.load_state_dict(ckpt['model_state'])\n",
        "    optimizer.load_state_dict(ckpt['optimizer_state'])\n",
        "    history = ckpt.get('history', history)\n",
        "    start_epoch = ckpt.get('epoch', 0)\n",
        "    best_val_acc = ckpt.get('best_val_acc', 0.0)\n",
        "    print(f\"Resumed at epoch {start_epoch}, best_val_acc {best_val_acc:.4f}\")\n",
        "\n",
        "for epoch in range(start_epoch, num_epochs):\n",
        "    model.train()\n",
        "    running_loss, correct, total = 0.0, 0, 0\n",
        "    loop = tqdm(train_loader, desc=f\"Epoch {epoch+1}/{num_epochs} [Train]\")\n",
        "    for images, labels in loop:\n",
        "        images = images.to(device)\n",
        "        labels = labels.to(device)\n",
        "        optimizer.zero_grad()\n",
        "        if scaler is not None:\n",
        "            with torch.cuda.amp.autocast():\n",
        "                outputs = model(images)\n",
        "                loss = criterion(outputs, labels)\n",
        "            scaler.scale(loss).backward()\n",
        "            scaler.step(optimizer)\n",
        "            scaler.update()\n",
        "        else:\n",
        "            outputs = model(images)\n",
        "            loss = criterion(outputs, labels)\n",
        "            loss.backward()\n",
        "            optimizer.step()\n",
        "\n",
        "        running_loss += loss.item() * images.size(0)\n",
        "        preds = outputs.argmax(dim=1)\n",
        "        correct += (preds == labels).sum().item()\n",
        "        total += images.size(0)\n",
        "        loop.set_postfix(loss=running_loss/total, acc=100*correct/total)\n",
        "\n",
        "    train_loss = running_loss / len(train_loader.dataset)\n",
        "    train_acc  = 100. * correct / total\n",
        "\n",
        "    # validation\n",
        "    model.eval()\n",
        "    val_loss, val_correct, val_total = 0.0, 0, 0\n",
        "    all_preds, all_labels = [], []\n",
        "    with torch.no_grad():\n",
        "        for images, labels in val_loader:\n",
        "            images = images.to(device); labels = labels.to(device)\n",
        "            outputs = model(images)\n",
        "            loss = criterion(outputs, labels)\n",
        "            val_loss += loss.item() * images.size(0)\n",
        "            preds = outputs.argmax(dim=1)\n",
        "            val_correct += (preds == labels).sum().item()\n",
        "            val_total += images.size(0)\n",
        "            all_preds.extend(preds.cpu().numpy())\n",
        "            all_labels.extend(labels.cpu().numpy())\n",
        "\n",
        "    val_loss = val_loss / len(val_loader.dataset)\n",
        "    val_acc  = 100. * val_correct / val_total\n",
        "    val_macro_f1 = f1_score(all_labels, all_preds, average=\"macro\")\n",
        "    val_bal_acc  = balanced_accuracy_score(all_labels, all_preds)\n",
        "\n",
        "    # record history\n",
        "    history[\"epoch\"].append(epoch+1)\n",
        "    history[\"train_loss\"].append(train_loss)\n",
        "    history[\"train_acc\"].append(train_acc)\n",
        "    history[\"val_loss\"].append(val_loss)\n",
        "    history[\"val_acc\"].append(val_acc)\n",
        "    history[\"val_macro_f1\"].append(val_macro_f1)\n",
        "    history[\"val_bal_acc\"].append(val_bal_acc)\n",
        "\n",
        "    print(f\"Epoch {epoch+1}/{num_epochs} | Train Loss: {train_loss:.4f} Train Acc: {train_acc:.2f}% | \"\n",
        "          f\"Val Loss: {val_loss:.4f} Val Acc: {val_acc:.2f}% | Macro-F1: {val_macro_f1:.4f} Bal Acc: {val_bal_acc:.4f}\")\n",
        "\n",
        "    # save best model\n",
        "    if val_acc > best_val_acc:\n",
        "        best_val_acc = val_acc\n",
        "        best_model_wts = copy.deepcopy(model.state_dict())\n",
        "        torch.save(model.state_dict(), best_model_path)\n",
        "        print(\"💾 Best model saved:\", best_model_path)\n",
        "\n",
        "    # save last checkpoint\n",
        "    torch.save({\n",
        "        \"epoch\": epoch+1,\n",
        "        \"model_state\": model.state_dict(),\n",
        "        \"optimizer_state\": optimizer.state_dict(),\n",
        "        \"history\": history,\n",
        "        \"best_val_acc\": best_val_acc\n",
        "    }, last_checkpoint_path)\n",
        "\n",
        "    # save history & csv log\n",
        "    torch.save(history, history_path)\n",
        "    pd.DataFrame(history).to_csv(csv_log_path, index=False)\n",
        "\n",
        "    # step scheduler\n",
        "    if scheduler is not None:\n",
        "        scheduler.step()\n",
        "\n",
        "# load best weights into model\n",
        "model.load_state_dict(best_model_wts)\n",
        "print(\"✅ Training complete. Best val acc:\", best_val_acc)\n"
      ],
      "metadata": {
        "colab": {
          "base_uri": "https://localhost:8080/",
          "height": 317
        },
        "id": "OPq2isTPxrVB",
        "outputId": "227316d1-b64e-49b8-9d20-f894454372aa"
      },
      "execution_count": null,
      "outputs": [
        {
          "output_type": "stream",
          "name": "stderr",
          "text": [
            "/tmp/ipython-input-560532752.py:24: FutureWarning: `torch.cuda.amp.GradScaler(args...)` is deprecated. Please use `torch.amp.GradScaler('cuda', args...)` instead.\n",
            "  scaler = torch.cuda.amp.GradScaler() if torch.cuda.is_available() else None\n",
            "Epoch 1/10 [Train]:   0%|          | 0/50 [00:00<?, ?it/s]/tmp/ipython-input-560532752.py:51: FutureWarning: `torch.cuda.amp.autocast(args...)` is deprecated. Please use `torch.amp.autocast('cuda', args...)` instead.\n",
            "  with torch.cuda.amp.autocast():\n",
            "Epoch 1/10 [Train]: 100%|██████████| 50/50 [11:01<00:00, 13.24s/it, acc=60.7, loss=0.667]\n"
          ]
        },
        {
          "output_type": "error",
          "ename": "NameError",
          "evalue": "name 'val_loader' is not defined",
          "traceback": [
            "\u001b[0;31m---------------------------------------------------------------------------\u001b[0m",
            "\u001b[0;31mNameError\u001b[0m                                 Traceback (most recent call last)",
            "\u001b[0;32m/tmp/ipython-input-560532752.py\u001b[0m in \u001b[0;36m<cell line: 0>\u001b[0;34m()\u001b[0m\n\u001b[1;32m     75\u001b[0m     \u001b[0mall_preds\u001b[0m\u001b[0;34m,\u001b[0m \u001b[0mall_labels\u001b[0m \u001b[0;34m=\u001b[0m \u001b[0;34m[\u001b[0m\u001b[0;34m]\u001b[0m\u001b[0;34m,\u001b[0m \u001b[0;34m[\u001b[0m\u001b[0;34m]\u001b[0m\u001b[0;34m\u001b[0m\u001b[0;34m\u001b[0m\u001b[0m\n\u001b[1;32m     76\u001b[0m     \u001b[0;32mwith\u001b[0m \u001b[0mtorch\u001b[0m\u001b[0;34m.\u001b[0m\u001b[0mno_grad\u001b[0m\u001b[0;34m(\u001b[0m\u001b[0;34m)\u001b[0m\u001b[0;34m:\u001b[0m\u001b[0;34m\u001b[0m\u001b[0;34m\u001b[0m\u001b[0m\n\u001b[0;32m---> 77\u001b[0;31m         \u001b[0;32mfor\u001b[0m \u001b[0mimages\u001b[0m\u001b[0;34m,\u001b[0m \u001b[0mlabels\u001b[0m \u001b[0;32min\u001b[0m \u001b[0mval_loader\u001b[0m\u001b[0;34m:\u001b[0m\u001b[0;34m\u001b[0m\u001b[0;34m\u001b[0m\u001b[0m\n\u001b[0m\u001b[1;32m     78\u001b[0m             \u001b[0mimages\u001b[0m \u001b[0;34m=\u001b[0m \u001b[0mimages\u001b[0m\u001b[0;34m.\u001b[0m\u001b[0mto\u001b[0m\u001b[0;34m(\u001b[0m\u001b[0mdevice\u001b[0m\u001b[0;34m)\u001b[0m\u001b[0;34m;\u001b[0m \u001b[0mlabels\u001b[0m \u001b[0;34m=\u001b[0m \u001b[0mlabels\u001b[0m\u001b[0;34m.\u001b[0m\u001b[0mto\u001b[0m\u001b[0;34m(\u001b[0m\u001b[0mdevice\u001b[0m\u001b[0;34m)\u001b[0m\u001b[0;34m\u001b[0m\u001b[0;34m\u001b[0m\u001b[0m\n\u001b[1;32m     79\u001b[0m             \u001b[0moutputs\u001b[0m \u001b[0;34m=\u001b[0m \u001b[0mmodel\u001b[0m\u001b[0;34m(\u001b[0m\u001b[0mimages\u001b[0m\u001b[0;34m)\u001b[0m\u001b[0;34m\u001b[0m\u001b[0;34m\u001b[0m\u001b[0m\n",
            "\u001b[0;31mNameError\u001b[0m: name 'val_loader' is not defined"
          ]
        }
      ]
    },
    {
      "cell_type": "code",
      "source": [
        "#Start Here!!!!!!!!!!!!!!\n",
        "# Colab cell 1: Mount Drive + inspect dataset structure + optional split\n",
        "\n",
        "\n",
        "import os, shutil, random\n",
        "from pathlib import Path\n",
        "\n",
        "ROOT = Path(\"/content/drive/MyDrive/synthbuster\")   # <-- your folder\n",
        "if not ROOT.exists():\n",
        "    raise RuntimeError(f\"Path not found: {ROOT}\")\n",
        "\n",
        "print(\"Root path:\", ROOT)\n",
        "print(\"Contents:\", sorted([p.name for p in ROOT.iterdir()]))\n",
        "\n",
        "# file extensions to accept\n",
        "valid_exts = ('.jpg', '.jpeg', '.png', '.bmp', '.tif', '.tiff', '.webp', '.PNG')\n",
        "\n",
        "def count_images(folder):\n",
        "    counts = {}\n",
        "    total = 0\n",
        "    for sub in sorted(folder.iterdir()):\n",
        "        if sub.is_dir():\n",
        "            c = sum(1 for f in sub.rglob('*') if f.suffix.lower() in valid_exts)\n",
        "            counts[sub.name] = c\n",
        "            total += c\n",
        "    return counts, total\n",
        "\n",
        "# Detect if train/test exists\n",
        "train_dir = ROOT / \"train\"\n",
        "test_dir  = ROOT / \"test\"\n",
        "if train_dir.exists() and test_dir.exists():\n",
        "    print(\"Found 'train' and 'test' directories. Using them.\")\n",
        "    tcounts, ttotal = count_images(train_dir)\n",
        "    vcounts, vtotal = count_images(test_dir)\n",
        "    print(\"Train classes & counts:\", tcounts)\n",
        "    print(\"Test  classes & counts:\", vcounts)\n",
        "    print(\"Train total:\", ttotal, \"Test total:\", vtotal)\n",
        "else:\n",
        "    # check for class folders directly in ROOT (e.g. 'ai', 'real')\n",
        "    class_dirs = [p for p in ROOT.iterdir() if p.is_dir() and p.name.lower() not in (\"train\", \"test\")]\n",
        "    # only treat those as class folders if they contain images\n",
        "    class_dirs = [p for p in class_dirs if any(f.suffix.lower() in valid_exts for f in p.rglob('*'))]\n",
        "    if len(class_dirs) >= 1:\n",
        "        print(\"Class folders detected:\", [p.name for p in class_dirs])\n",
        "        # create train/test and split per-class (stratified by class)\n",
        "        train_dir.mkdir(exist_ok=True)\n",
        "        test_dir.mkdir(exist_ok=True)\n",
        "        TEST_RATIO = 0.20   # change test split fraction here\n",
        "        random_seed = 42\n",
        "        random.seed(random_seed)\n",
        "\n",
        "        from sklearn.model_selection import train_test_split\n",
        "\n",
        "        for cls_dir in class_dirs:\n",
        "            cls_name = cls_dir.name\n",
        "            all_imgs = [p for p in cls_dir.iterdir() if p.suffix.lower() in valid_exts]\n",
        "            if len(all_imgs) == 0:\n",
        "                continue\n",
        "            # do per-class split\n",
        "            train_list, test_list = train_test_split(all_imgs, test_size=TEST_RATIO, random_state=random_seed)\n",
        "            target_train_cls = train_dir / cls_name\n",
        "            target_test_cls  = test_dir / cls_name\n",
        "            target_train_cls.mkdir(parents=True, exist_ok=True)\n",
        "            target_test_cls.mkdir(parents=True, exist_ok=True)\n",
        "\n",
        "            # copy files (safer than move)\n",
        "            for p in train_list:\n",
        "                shutil.copy2(p, target_train_cls / p.name)\n",
        "            for p in test_list:\n",
        "                shutil.copy2(p, target_test_cls / p.name)\n",
        "\n",
        "        # report\n",
        "        tcounts, ttotal = count_images(train_dir)\n",
        "        vcounts, vtotal = count_images(test_dir)\n",
        "        print(\"Created train/test split.\")\n",
        "        print(\"Train classes & counts:\", tcounts)\n",
        "        print(\"Test  classes & counts:\", vcounts)\n",
        "        print(\"Train total:\", ttotal, \"Test total:\", vtotal)\n",
        "    else:\n",
        "        raise RuntimeError(\"No 'train'/'test' folders and no class subfolders with images found in synthbuster. \"\n",
        "                           \"Please place images in per-class subfolders (e.g. synthbuster/ai, synthbuster/real), \"\n",
        "                           \"or provide train/test folders.\")\n"
      ],
      "metadata": {
        "colab": {
          "base_uri": "https://localhost:8080/"
        },
        "id": "iWQdpozZ1dyD",
        "outputId": "deca821d-d4f2-4279-d2da-c0455412656d"
      },
      "execution_count": 6,
      "outputs": [
        {
          "output_type": "stream",
          "name": "stdout",
          "text": [
            "Root path: /content/drive/MyDrive/synthbuster\n",
            "Contents: ['checkpoints', 'test', 'train']\n",
            "Found 'train' and 'test' directories. Using them.\n",
            "Train classes & counts: {'ai': 800, 'real': 799}\n",
            "Test  classes & counts: {'ai': 200, 'real': 200}\n",
            "Train total: 1599 Test total: 400\n"
          ]
        }
      ]
    },
    {
      "cell_type": "code",
      "source": [
        "# Colab cell 2: install timm and prepare datasets + dataloaders\n",
        "!pip install -q timm\n",
        "# (optional) restart kernel prompt may appear but usually not needed\n",
        "\n",
        "import torch\n",
        "from torchvision import transforms\n",
        "from torchvision.datasets import ImageFolder\n",
        "from torch.utils.data import DataLoader, WeightedRandomSampler\n",
        "import os\n",
        "\n",
        "# settings\n",
        "image_size = 256       # MobileViT commonly uses 224/256. Change if you need.\n",
        "batch_size = 32        # change to 16 if GPU memory is tight\n",
        "num_workers = 2\n",
        "\n",
        "transform = transforms.Compose([\n",
        "    transforms.Resize((image_size, image_size)),\n",
        "    transforms.ToTensor(),\n",
        "    transforms.Normalize(mean=[0.5,0.5,0.5], std=[0.5,0.5,0.5])\n",
        "])\n",
        "\n",
        "train_dir = os.path.join(\"/content/drive/MyDrive/synthbuster\", \"train\")\n",
        "test_dir  = os.path.join(\"/content/drive/MyDrive/synthbuster\", \"test\")\n",
        "\n",
        "print(\"Using train:\", train_dir)\n",
        "print(\"Using test: \", test_dir)\n",
        "\n",
        "# create datasets (only allow valid image extensions)\n",
        "valid_exts = ('.jpg', '.jpeg', '.png', '.bmp', '.tif', '.tiff', '.webp', '.PNG')\n",
        "train_dataset = ImageFolder(root=train_dir, transform=transform,\n",
        "                            is_valid_file=lambda path: path.lower().endswith(valid_exts))\n",
        "test_dataset  = ImageFolder(root=test_dir,  transform=transform,\n",
        "                            is_valid_file=lambda path: path.lower().endswith(valid_exts))\n",
        "\n",
        "print(\"Classes:\", train_dataset.classes)\n",
        "print(\"Train size:\", len(train_dataset))\n",
        "print(\"Test  size:\", len(test_dataset))\n",
        "\n",
        "# Weighted sampler to counter class imbalance (optional)\n",
        "from collections import Counter\n",
        "targets = [s[1] for s in train_dataset.samples]\n",
        "class_counts = Counter(targets)\n",
        "print(\"Per-class sample counts (indexed):\", class_counts)\n",
        "\n",
        "class_weights = {cls: 1.0 / count for cls, count in class_counts.items()}\n",
        "sample_weights = [class_weights[t] for t in targets]\n",
        "sampler = WeightedRandomSampler(sample_weights, num_samples=len(sample_weights), replacement=True)\n",
        "\n",
        "# DataLoaders. If you prefer no sampler, set sampler=None and shuffle=True\n",
        "train_loader = DataLoader(train_dataset, batch_size=batch_size, sampler=sampler,\n",
        "                          num_workers=num_workers, pin_memory=True)\n",
        "val_loader   = DataLoader(test_dataset, batch_size=batch_size, shuffle=False,\n",
        "                          num_workers=num_workers, pin_memory=True)\n"
      ],
      "metadata": {
        "colab": {
          "base_uri": "https://localhost:8080/"
        },
        "id": "yA6KHFjB1ncP",
        "outputId": "31038f44-5740-4f56-f388-9aa8edec3de3"
      },
      "execution_count": 7,
      "outputs": [
        {
          "output_type": "stream",
          "name": "stdout",
          "text": [
            "Using train: /content/drive/MyDrive/synthbuster/train\n",
            "Using test:  /content/drive/MyDrive/synthbuster/test\n",
            "Classes: ['ai', 'real']\n",
            "Train size: 1599\n",
            "Test  size: 400\n",
            "Per-class sample counts (indexed): Counter({0: 800, 1: 799})\n"
          ]
        }
      ]
    },
    {
      "cell_type": "code",
      "source": [
        "# Colab cell 3: load model from timm and adapt classifier\n",
        "import timm\n",
        "import torch\n",
        "import torch.nn as nn\n",
        "\n",
        "device = torch.device(\"cuda\" if torch.cuda.is_available() else \"cpu\")\n",
        "print(\"Device:\", device)\n",
        "\n",
        "model_name = \"mobilevitv2_050\"   # you can change to other mobilevit variants available in timm\n",
        "model = timm.create_model(model_name, pretrained=True)\n",
        "\n",
        "# adapt head to match num classes\n",
        "num_classes = len(train_dataset.classes)\n",
        "try:\n",
        "    model.reset_classifier(num_classes=num_classes)\n",
        "except Exception:\n",
        "    # fallback: try to locate classifier attribute\n",
        "    if hasattr(model, \"classifier\"):\n",
        "        in_features = model.classifier.in_features\n",
        "        model.classifier = nn.Linear(in_features, num_classes)\n",
        "    elif hasattr(model, \"head\"):\n",
        "        in_features = model.head.in_features\n",
        "        model.head = nn.Linear(in_features, num_classes)\n",
        "    else:\n",
        "        raise RuntimeError(\"Cannot find classifier head to replace automatically. Inspect model structure.\")\n",
        "\n",
        "model = model.to(device)\n",
        "print(f\"Loaded {model_name} -> classifier set to {num_classes} classes\")\n"
      ],
      "metadata": {
        "colab": {
          "base_uri": "https://localhost:8080/"
        },
        "id": "xVZki7Ob1s0q",
        "outputId": "8a1a7fa0-3356-49cf-a1a8-c0490166546d"
      },
      "execution_count": 8,
      "outputs": [
        {
          "output_type": "stream",
          "name": "stdout",
          "text": [
            "Device: cpu\n",
            "Loaded mobilevitv2_050 -> classifier set to 2 classes\n"
          ]
        }
      ]
    },
    {
      "cell_type": "code",
      "source": [
        "# Colab cell 4: training loop + checkpointing + history saving\n",
        "import torch, os, copy\n",
        "import torch.nn as nn\n",
        "import torch.optim as optim\n",
        "from tqdm import tqdm\n",
        "from sklearn.metrics import f1_score, balanced_accuracy_score, classification_report, confusion_matrix\n",
        "import pandas as pd\n",
        "import seaborn as sns\n",
        "import matplotlib.pyplot as plt\n",
        "\n",
        "# Paths to save stuff in Drive\n",
        "save_dir = \"/content/drive/MyDrive/synthbuster/checkpoints\"\n",
        "os.makedirs(save_dir, exist_ok=True)\n",
        "best_model_path = os.path.join(save_dir, \"mobilevitv2_best.pth\")\n",
        "last_checkpoint_path = os.path.join(save_dir, \"mobilevitv2_last.pth\")\n",
        "history_path = os.path.join(save_dir, \"history.pth\")\n",
        "csv_log_path = os.path.join(save_dir, \"training_log.csv\")\n",
        "\n",
        "# Training settings\n",
        "criterion = nn.CrossEntropyLoss()\n",
        "optimizer = optim.AdamW(model.parameters(), lr=2e-4, weight_decay=1e-4)\n",
        "num_epochs = 10\n",
        "scheduler = optim.lr_scheduler.CosineAnnealingLR(optimizer, T_max=max(1, num_epochs))\n",
        "scaler = torch.cuda.amp.GradScaler() if torch.cuda.is_available() else None\n",
        "\n",
        "# resume if checkpoint exists\n",
        "start_epoch = 0\n",
        "best_val_acc = 0.0\n",
        "history = {\"epoch\":[], \"train_loss\":[], \"train_acc\":[], \"val_loss\":[], \"val_acc\":[], \"val_macro_f1\":[], \"val_bal_acc\":[]}\n",
        "best_model_wts = copy.deepcopy(model.state_dict())\n",
        "\n",
        "if os.path.exists(last_checkpoint_path):\n",
        "    print(\"Resuming from checkpoint:\", last_checkpoint_path)\n",
        "    ckpt = torch.load(last_checkpoint_path, map_location=device)\n",
        "    model.load_state_dict(ckpt['model_state'])\n",
        "    optimizer.load_state_dict(ckpt['optimizer_state'])\n",
        "    history = ckpt.get('history', history)\n",
        "    start_epoch = ckpt.get('epoch', 0)\n",
        "    best_val_acc = ckpt.get('best_val_acc', 0.0)\n",
        "    print(f\"Resumed at epoch {start_epoch}, best_val_acc {best_val_acc:.4f}\")\n",
        "\n",
        "for epoch in range(start_epoch, num_epochs):\n",
        "    model.train()\n",
        "    running_loss, correct, total = 0.0, 0, 0\n",
        "    loop = tqdm(train_loader, desc=f\"Epoch {epoch+1}/{num_epochs} [Train]\")\n",
        "    for images, labels in loop:\n",
        "        images = images.to(device)\n",
        "        labels = labels.to(device)\n",
        "        optimizer.zero_grad()\n",
        "        if scaler is not None:\n",
        "            with torch.cuda.amp.autocast():\n",
        "                outputs = model(images)\n",
        "                loss = criterion(outputs, labels)\n",
        "            scaler.scale(loss).backward()\n",
        "            scaler.step(optimizer)\n",
        "            scaler.update()\n",
        "        else:\n",
        "            outputs = model(images)\n",
        "            loss = criterion(outputs, labels)\n",
        "            loss.backward()\n",
        "            optimizer.step()\n",
        "\n",
        "        running_loss += loss.item() * images.size(0)\n",
        "        preds = outputs.argmax(dim=1)\n",
        "        correct += (preds == labels).sum().item()\n",
        "        total += images.size(0)\n",
        "        loop.set_postfix(loss=running_loss/total, acc=100*correct/total)\n",
        "\n",
        "    train_loss = running_loss / len(train_loader.dataset)\n",
        "    train_acc  = 100. * correct / total\n",
        "\n",
        "    # validation\n",
        "    model.eval()\n",
        "    val_loss, val_correct, val_total = 0.0, 0, 0\n",
        "    all_preds, all_labels = [], []\n",
        "    with torch.no_grad():\n",
        "        for images, labels in val_loader:\n",
        "            images = images.to(device); labels = labels.to(device)\n",
        "            outputs = model(images)\n",
        "            loss = criterion(outputs, labels)\n",
        "            val_loss += loss.item() * images.size(0)\n",
        "            preds = outputs.argmax(dim=1)\n",
        "            val_correct += (preds == labels).sum().item()\n",
        "            val_total += images.size(0)\n",
        "            all_preds.extend(preds.cpu().numpy())\n",
        "            all_labels.extend(labels.cpu().numpy())\n",
        "\n",
        "    val_loss = val_loss / len(val_loader.dataset)\n",
        "    val_acc  = 100. * val_correct / val_total\n",
        "    val_macro_f1 = f1_score(all_labels, all_preds, average=\"macro\")\n",
        "    val_bal_acc  = balanced_accuracy_score(all_labels, all_preds)\n",
        "\n",
        "    # record history\n",
        "    history[\"epoch\"].append(epoch+1)\n",
        "    history[\"train_loss\"].append(train_loss)\n",
        "    history[\"train_acc\"].append(train_acc)\n",
        "    history[\"val_loss\"].append(val_loss)\n",
        "    history[\"val_acc\"].append(val_acc)\n",
        "    history[\"val_macro_f1\"].append(val_macro_f1)\n",
        "    history[\"val_bal_acc\"].append(val_bal_acc)\n",
        "\n",
        "    print(f\"Epoch {epoch+1}/{num_epochs} | Train Loss: {train_loss:.4f} Train Acc: {train_acc:.2f}% | \"\n",
        "          f\"Val Loss: {val_loss:.4f} Val Acc: {val_acc:.2f}% | Macro-F1: {val_macro_f1:.4f} Bal Acc: {val_bal_acc:.4f}\")\n",
        "\n",
        "    # save best model\n",
        "    if val_acc > best_val_acc:\n",
        "        best_val_acc = val_acc\n",
        "        best_model_wts = copy.deepcopy(model.state_dict())\n",
        "        torch.save(model.state_dict(), best_model_path)\n",
        "        print(\"💾 Best model saved:\", best_model_path)\n",
        "\n",
        "    # save last checkpoint\n",
        "    torch.save({\n",
        "        \"epoch\": epoch+1,\n",
        "        \"model_state\": model.state_dict(),\n",
        "        \"optimizer_state\": optimizer.state_dict(),\n",
        "        \"history\": history,\n",
        "        \"best_val_acc\": best_val_acc\n",
        "    }, last_checkpoint_path)\n",
        "\n",
        "    # save history & csv log\n",
        "    torch.save(history, history_path)\n",
        "    pd.DataFrame(history).to_csv(csv_log_path, index=False)\n",
        "\n",
        "    # step scheduler\n",
        "    if scheduler is not None:\n",
        "        scheduler.step()\n",
        "\n",
        "# load best weights into model\n",
        "model.load_state_dict(best_model_wts)\n",
        "print(\"✅ Training complete. Best val acc:\", best_val_acc)\n"
      ],
      "metadata": {
        "colab": {
          "base_uri": "https://localhost:8080/"
        },
        "id": "JrkAY5XH1wSZ",
        "outputId": "9041c6e2-8c9b-4598-ed49-43eb3a8dccf6"
      },
      "execution_count": null,
      "outputs": [
        {
          "output_type": "stream",
          "name": "stderr",
          "text": [
            "/tmp/ipython-input-3169610435.py:6: FutureWarning: `torch.cuda.amp.GradScaler(args...)` is deprecated. Please use `torch.amp.GradScaler('cuda', args...)` instead.\n",
            "  scaler = torch.cuda.amp.GradScaler() if torch.cuda.is_available() else None\n",
            "Epoch 1/10 [Train]:   0%|          | 0/50 [00:00<?, ?it/s]/tmp/ipython-input-3169610435.py:33: FutureWarning: `torch.cuda.amp.autocast(args...)` is deprecated. Please use `torch.amp.autocast('cuda', args...)` instead.\n",
            "  with torch.cuda.amp.autocast():\n",
            "Epoch 1/10 [Train]: 100%|██████████| 50/50 [09:00<00:00, 10.82s/it, acc=78, loss=0.54]\n"
          ]
        },
        {
          "output_type": "stream",
          "name": "stdout",
          "text": [
            "Epoch 1/10 | Train Loss: 0.5403 Train Acc: 78.05% | Val Loss: 0.4682 Val Acc: 83.00% | Macro-F1: 0.8299 Bal Acc: 0.8300\n",
            "💾 Best model saved: /content/drive/MyDrive/synthbuster/checkpoints/mobilevitv2_best.pth\n"
          ]
        },
        {
          "output_type": "stream",
          "name": "stderr",
          "text": [
            "Epoch 2/10 [Train]:   0%|          | 0/50 [00:00<?, ?it/s]/tmp/ipython-input-3169610435.py:33: FutureWarning: `torch.cuda.amp.autocast(args...)` is deprecated. Please use `torch.amp.autocast('cuda', args...)` instead.\n",
            "  with torch.cuda.amp.autocast():\n",
            "Epoch 2/10 [Train]: 100%|██████████| 50/50 [09:03<00:00, 10.87s/it, acc=86, loss=0.364]\n"
          ]
        },
        {
          "output_type": "stream",
          "name": "stdout",
          "text": [
            "Epoch 2/10 | Train Loss: 0.3641 Train Acc: 85.99% | Val Loss: 0.3195 Val Acc: 88.00% | Macro-F1: 0.8799 Bal Acc: 0.8800\n",
            "💾 Best model saved: /content/drive/MyDrive/synthbuster/checkpoints/mobilevitv2_best.pth\n"
          ]
        },
        {
          "output_type": "stream",
          "name": "stderr",
          "text": [
            "Epoch 3/10 [Train]:   0%|          | 0/50 [00:00<?, ?it/s]/tmp/ipython-input-3169610435.py:33: FutureWarning: `torch.cuda.amp.autocast(args...)` is deprecated. Please use `torch.amp.autocast('cuda', args...)` instead.\n",
            "  with torch.cuda.amp.autocast():\n",
            "Epoch 3/10 [Train]: 100%|██████████| 50/50 [09:11<00:00, 11.03s/it, acc=90.4, loss=0.255]\n"
          ]
        },
        {
          "output_type": "stream",
          "name": "stdout",
          "text": [
            "Epoch 3/10 | Train Loss: 0.2550 Train Acc: 90.37% | Val Loss: 0.2539 Val Acc: 89.00% | Macro-F1: 0.8900 Bal Acc: 0.8900\n",
            "💾 Best model saved: /content/drive/MyDrive/synthbuster/checkpoints/mobilevitv2_best.pth\n"
          ]
        },
        {
          "output_type": "stream",
          "name": "stderr",
          "text": [
            "Epoch 4/10 [Train]:   0%|          | 0/50 [00:00<?, ?it/s]/tmp/ipython-input-3169610435.py:33: FutureWarning: `torch.cuda.amp.autocast(args...)` is deprecated. Please use `torch.amp.autocast('cuda', args...)` instead.\n",
            "  with torch.cuda.amp.autocast():\n",
            "Epoch 4/10 [Train]: 100%|██████████| 50/50 [09:10<00:00, 11.01s/it, acc=93.4, loss=0.177]\n"
          ]
        },
        {
          "output_type": "stream",
          "name": "stdout",
          "text": [
            "Epoch 4/10 | Train Loss: 0.1766 Train Acc: 93.43% | Val Loss: 0.2241 Val Acc: 90.50% | Macro-F1: 0.9050 Bal Acc: 0.9050\n",
            "💾 Best model saved: /content/drive/MyDrive/synthbuster/checkpoints/mobilevitv2_best.pth\n"
          ]
        },
        {
          "output_type": "stream",
          "name": "stderr",
          "text": [
            "\rEpoch 5/10 [Train]:   0%|          | 0/50 [00:00<?, ?it/s]/tmp/ipython-input-3169610435.py:33: FutureWarning: `torch.cuda.amp.autocast(args...)` is deprecated. Please use `torch.amp.autocast('cuda', args...)` instead.\n",
            "  with torch.cuda.amp.autocast():\n",
            "Epoch 5/10 [Train]: 100%|██████████| 50/50 [08:59<00:00, 10.78s/it, acc=94.2, loss=0.15]\n"
          ]
        },
        {
          "output_type": "stream",
          "name": "stdout",
          "text": [
            "Epoch 5/10 | Train Loss: 0.1504 Train Acc: 94.25% | Val Loss: 0.2253 Val Acc: 90.50% | Macro-F1: 0.9050 Bal Acc: 0.9050\n"
          ]
        },
        {
          "output_type": "stream",
          "name": "stderr",
          "text": [
            "\rEpoch 6/10 [Train]:   0%|          | 0/50 [00:00<?, ?it/s]/tmp/ipython-input-3169610435.py:33: FutureWarning: `torch.cuda.amp.autocast(args...)` is deprecated. Please use `torch.amp.autocast('cuda', args...)` instead.\n",
            "  with torch.cuda.amp.autocast():\n",
            "Epoch 6/10 [Train]: 100%|██████████| 50/50 [09:04<00:00, 10.89s/it, acc=97.6, loss=0.0954]\n"
          ]
        },
        {
          "output_type": "stream",
          "name": "stdout",
          "text": [
            "Epoch 6/10 | Train Loss: 0.0954 Train Acc: 97.62% | Val Loss: 0.2134 Val Acc: 92.00% | Macro-F1: 0.9200 Bal Acc: 0.9200\n",
            "💾 Best model saved: /content/drive/MyDrive/synthbuster/checkpoints/mobilevitv2_best.pth\n"
          ]
        },
        {
          "output_type": "stream",
          "name": "stderr",
          "text": [
            "Epoch 7/10 [Train]:   0%|          | 0/50 [00:00<?, ?it/s]/tmp/ipython-input-3169610435.py:33: FutureWarning: `torch.cuda.amp.autocast(args...)` is deprecated. Please use `torch.amp.autocast('cuda', args...)` instead.\n",
            "  with torch.cuda.amp.autocast():\n",
            "Epoch 7/10 [Train]: 100%|██████████| 50/50 [09:02<00:00, 10.85s/it, acc=96.6, loss=0.0978]\n"
          ]
        },
        {
          "output_type": "stream",
          "name": "stdout",
          "text": [
            "Epoch 7/10 | Train Loss: 0.0978 Train Acc: 96.56% | Val Loss: 0.2076 Val Acc: 92.00% | Macro-F1: 0.9199 Bal Acc: 0.9200\n"
          ]
        },
        {
          "output_type": "stream",
          "name": "stderr",
          "text": [
            "\rEpoch 8/10 [Train]:   0%|          | 0/50 [00:00<?, ?it/s]/tmp/ipython-input-3169610435.py:33: FutureWarning: `torch.cuda.amp.autocast(args...)` is deprecated. Please use `torch.amp.autocast('cuda', args...)` instead.\n",
            "  with torch.cuda.amp.autocast():\n",
            "Epoch 8/10 [Train]: 100%|██████████| 50/50 [09:17<00:00, 11.14s/it, acc=96.4, loss=0.0964]\n"
          ]
        },
        {
          "output_type": "stream",
          "name": "stdout",
          "text": [
            "Epoch 8/10 | Train Loss: 0.0964 Train Acc: 96.44% | Val Loss: 0.2087 Val Acc: 91.75% | Macro-F1: 0.9175 Bal Acc: 0.9175\n"
          ]
        },
        {
          "output_type": "stream",
          "name": "stderr",
          "text": [
            "Epoch 9/10 [Train]:   0%|          | 0/50 [00:00<?, ?it/s]/tmp/ipython-input-3169610435.py:33: FutureWarning: `torch.cuda.amp.autocast(args...)` is deprecated. Please use `torch.amp.autocast('cuda', args...)` instead.\n",
            "  with torch.cuda.amp.autocast():\n",
            "Epoch 9/10 [Train]: 100%|██████████| 50/50 [09:10<00:00, 11.01s/it, acc=98.4, loss=0.0638]\n"
          ]
        },
        {
          "output_type": "stream",
          "name": "stdout",
          "text": [
            "Epoch 9/10 | Train Loss: 0.0638 Train Acc: 98.37% | Val Loss: 0.2072 Val Acc: 92.00% | Macro-F1: 0.9200 Bal Acc: 0.9200\n"
          ]
        },
        {
          "output_type": "stream",
          "name": "stderr",
          "text": [
            "Epoch 10/10 [Train]:   0%|          | 0/50 [00:00<?, ?it/s]/tmp/ipython-input-3169610435.py:33: FutureWarning: `torch.cuda.amp.autocast(args...)` is deprecated. Please use `torch.amp.autocast('cuda', args...)` instead.\n",
            "  with torch.cuda.amp.autocast():\n",
            "Epoch 10/10 [Train]: 100%|██████████| 50/50 [09:24<00:00, 11.28s/it, acc=97.6, loss=0.0755]\n"
          ]
        },
        {
          "output_type": "stream",
          "name": "stdout",
          "text": [
            "Epoch 10/10 | Train Loss: 0.0755 Train Acc: 97.62% | Val Loss: 0.2053 Val Acc: 92.25% | Macro-F1: 0.9225 Bal Acc: 0.9225\n",
            "💾 Best model saved: /content/drive/MyDrive/synthbuster/checkpoints/mobilevitv2_best.pth\n",
            "✅ Training complete. Best val acc: 92.25\n"
          ]
        }
      ]
    },
    {
      "cell_type": "code",
      "source": [
        "# Colab cell 5: evaluate on validation set, print classification report + confusion matrix + training plots\n",
        "import numpy as np\n",
        "from sklearn.metrics import classification_report, confusion_matrix\n",
        "import matplotlib.pyplot as plt\n",
        "import seaborn as sns\n",
        "\n",
        "model.eval()\n",
        "all_preds, all_labels = [], []\n",
        "with torch.no_grad():\n",
        "    for images, labels in val_loader:\n",
        "        images = images.to(device); labels = labels.to(device)\n",
        "        outputs = model(images)\n",
        "        preds = outputs.argmax(dim=1)\n",
        "        all_preds.extend(preds.cpu().numpy())\n",
        "        all_labels.extend(labels.cpu().numpy())\n",
        "\n",
        "classes = train_dataset.classes\n",
        "print(\"Classes:\", classes)\n",
        "print(\"Classification Report:\\n\")\n",
        "print(classification_report(all_labels, all_preds, target_names=classes))\n",
        "\n",
        "cm = confusion_matrix(all_labels, all_preds)\n",
        "plt.figure(figsize=(6,5))\n",
        "sns.heatmap(cm, annot=True, fmt=\"d\", cmap=\"Blues\", xticklabels=classes, yticklabels=classes)\n",
        "plt.xlabel(\"Predicted\")\n",
        "plt.ylabel(\"True\")\n",
        "plt.title(\"Confusion Matrix\")\n",
        "plt.show()\n",
        "\n",
        "# Plot history saved in CSV or variable\n",
        "import pandas as pd\n",
        "hist = pd.read_csv(csv_log_path) if os.path.exists(csv_log_path) else pd.DataFrame(history)\n",
        "epochs = hist['epoch'].tolist()\n",
        "\n",
        "plt.figure(figsize=(14,5))\n",
        "plt.subplot(1,2,1)\n",
        "plt.plot(epochs, hist['train_loss'], marker='o', label='Train Loss')\n",
        "plt.plot(epochs, hist['val_loss'],   marker='o', label='Val Loss')\n",
        "plt.title(\"Loss\")\n",
        "plt.xlabel(\"Epoch\"); plt.ylabel(\"Loss\"); plt.legend(); plt.grid(True)\n",
        "\n",
        "plt.subplot(1,2,2)\n",
        "plt.plot(epochs, hist['train_acc'], marker='o', label='Train Acc')\n",
        "plt.plot(epochs, hist['val_acc'],   marker='o', label='Val Acc')\n",
        "plt.plot(epochs, hist['val_macro_f1'], marker='x', label='Val Macro-F1')\n",
        "plt.plot(epochs, hist['val_bal_acc'], marker='x', label='Val Bal Acc')\n",
        "plt.title(\"Accuracy / F1\")\n",
        "plt.xlabel(\"Epoch\"); plt.ylabel(\"Score\"); plt.legend(); plt.grid(True)\n",
        "plt.tight_layout()\n",
        "plt.show()\n",
        "\n",
        "print(\"Artifacts saved under:\", save_dir)\n",
        "print(\"Best model:\", best_model_path)\n",
        "print(\"Last checkpoint:\", last_checkpoint_path)\n",
        "print(\"History:\", history_path)\n"
      ],
      "metadata": {
        "colab": {
          "base_uri": "https://localhost:8080/",
          "height": 1000
        },
        "id": "1Y3N_yJ-TLb5",
        "outputId": "bc9ec0c8-58d2-4258-c89f-1f256727f0f2"
      },
      "execution_count": null,
      "outputs": [
        {
          "output_type": "stream",
          "name": "stdout",
          "text": [
            "Classes: ['ai', 'real']\n",
            "Classification Report:\n",
            "\n",
            "              precision    recall  f1-score   support\n",
            "\n",
            "          ai       0.92      0.93      0.92       200\n",
            "        real       0.93      0.92      0.92       200\n",
            "\n",
            "    accuracy                           0.92       400\n",
            "   macro avg       0.92      0.92      0.92       400\n",
            "weighted avg       0.92      0.92      0.92       400\n",
            "\n"
          ]
        },
        {
          "output_type": "display_data",
          "data": {
            "text/plain": [
              "<Figure size 600x500 with 2 Axes>"
            ],
            "image/png": "[encoded data removed]"
          },
          "metadata": {}
        },
        {
          "output_type": "display_data",
          "data": {
            "text/plain": [
              "<Figure size 1400x500 with 2 Axes>"
            ],
            "image/png": "[encoded data removed]"
          },
          "metadata": {}
        },
        {
          "output_type": "stream",
          "name": "stdout",
          "text": [
            "Artifacts saved under: /content/drive/MyDrive/synthbuster/checkpoints\n",
            "Best model: /content/drive/MyDrive/synthbuster/checkpoints/mobilevitv2_best.pth\n",
            "Last checkpoint: /content/drive/MyDrive/synthbuster/checkpoints/mobilevitv2_last.pth\n",
            "History: /content/drive/MyDrive/synthbuster/checkpoints/history.pth\n"
          ]
        }
      ]
    },
    {
      "cell_type": "code",
      "source": [
        "#Again Cell 4_2 with 🔥 Improved Training with Augmentation + Label Smoothing + Two-LR Optimizer + Scheduler and Epochs=10\n",
        "\n",
        "import torch\n",
        "import torch.nn as nn\n",
        "import torch.optim as optim\n",
        "from torch.utils.data import DataLoader, WeightedRandomSampler\n",
        "from torchvision import datasets, transforms\n",
        "from collections import Counter\n",
        "from tqdm import tqdm\n",
        "from sklearn.metrics import f1_score, balanced_accuracy_score, classification_report, confusion_matrix\n",
        "import pandas as pd\n",
        "import seaborn as sns\n",
        "import matplotlib.pyplot as plt\n",
        "import os, copy\n",
        "\n",
        "# -------------------------------\n",
        "# Paths\n",
        "save_dir = \"/content/drive/MyDrive/synthbuster/checkpoints/cell4_2\"\n",
        "os.makedirs(save_dir, exist_ok=True)\n",
        "\n",
        "best_model_path = os.path.join(save_dir, \"best_model.pth\")\n",
        "last_checkpoint_path = os.path.join(save_dir, \"last_checkpoint.pth\")\n",
        "history_path = os.path.join(save_dir, \"history.pth\")\n",
        "csv_log_path = os.path.join(save_dir, \"training_log.csv\")\n",
        "\n",
        "# -------------------------------\n",
        "# Device\n",
        "device = torch.device(\"cuda\" if torch.cuda.is_available() else \"cpu\")\n",
        "print(\"Device:\", device)\n",
        "\n",
        "# -------------------------------\n",
        "# Data transforms (aug for train, simple for val)\n",
        "train_transform = transforms.Compose([\n",
        "    transforms.RandomResizedCrop(256, scale=(0.8, 1.0)),\n",
        "    transforms.RandomHorizontalFlip(),\n",
        "    transforms.ColorJitter(0.2, 0.2, 0.2, 0.05),\n",
        "    transforms.RandomGrayscale(p=0.02),\n",
        "    transforms.ToTensor(),\n",
        "    transforms.RandomErasing(p=0.2, scale=(0.02,0.2), ratio=(0.3,3.3)),\n",
        "    transforms.Normalize([0.5,0.5,0.5],[0.5,0.5,0.5])\n",
        "])\n",
        "\n",
        "val_transform = transforms.Compose([\n",
        "    transforms.Resize((256,256)),\n",
        "    transforms.ToTensor(),\n",
        "    transforms.Normalize([0.5,0.5,0.5],[0.5,0.5,0.5])\n",
        "])\n",
        "\n",
        "# Reload datasets with transforms\n",
        "train_dataset = datasets.ImageFolder(root=\"/content/drive/MyDrive/synthbuster/train\", transform=train_transform)\n",
        "val_dataset   = datasets.ImageFolder(root=\"/content/drive/MyDrive/synthbuster/test\", transform=val_transform)\n",
        "\n",
        "# WeightedRandomSampler for imbalance\n",
        "targets = [s[1] for s in train_dataset.samples]\n",
        "counts = Counter(targets)\n",
        "class_weights = {cls: 1.0 / count for cls, count in counts.items()}\n",
        "sample_weights = [class_weights[t] for t in targets]\n",
        "sampler = WeightedRandomSampler(sample_weights, num_samples=len(sample_weights), replacement=True)\n",
        "\n",
        "batch_size = 32\n",
        "train_loader = DataLoader(train_dataset, batch_size=batch_size, sampler=sampler, num_workers=2, pin_memory=True)\n",
        "val_loader   = DataLoader(val_dataset, batch_size=batch_size, shuffle=False, num_workers=2, pin_memory=True)\n",
        "\n",
        "classes = train_dataset.classes\n",
        "print(\"Classes:\", classes)\n",
        "\n",
        "# -------------------------------\n",
        "# Loss (with label smoothing)\n",
        "criterion = nn.CrossEntropyLoss(label_smoothing=0.1)\n",
        "\n",
        "# Two-LR optimizer (backbone slower, classifier faster)\n",
        "backbone_params, head_params = [], []\n",
        "for name, p in model.named_parameters():\n",
        "    if \"classifier\" in name or \"head\" in name:\n",
        "        head_params.append(p)\n",
        "    else:\n",
        "        backbone_params.append(p)\n",
        "\n",
        "optimizer = optim.AdamW([\n",
        "    {'params': backbone_params, 'lr': 5e-5},\n",
        "    {'params': head_params, 'lr': 2e-4}\n",
        "], weight_decay=1e-4)\n",
        "\n",
        "# LR scheduler (reduce if val_acc plateaus)\n",
        "scheduler = optim.lr_scheduler.ReduceLROnPlateau(optimizer, mode='max', factor=0.5, patience=2)\n",
        "\n",
        "# Mixed precision\n",
        "scaler = torch.cuda.amp.GradScaler() if torch.cuda.is_available() else None\n",
        "\n",
        "# -------------------------------\n",
        "# Training state\n",
        "start_epoch = 0\n",
        "num_epochs = 10\n",
        "best_val_acc = 0.0\n",
        "history = {\"epoch\": [], \"train_loss\": [], \"train_acc\": [],\n",
        "           \"val_loss\": [], \"val_acc\": [], \"val_macro_f1\": [], \"val_bal_acc\": []}\n",
        "best_model_wts = copy.deepcopy(model.state_dict())\n",
        "\n",
        "# Resume checkpoint if exists\n",
        "if os.path.exists(last_checkpoint_path):\n",
        "    print(f\"🔄 Resuming from {last_checkpoint_path}\")\n",
        "    checkpoint = torch.load(last_checkpoint_path, map_location=device)\n",
        "    model.load_state_dict(checkpoint['model_state'])\n",
        "    optimizer.load_state_dict(checkpoint['optimizer_state'])\n",
        "    history = checkpoint['history']\n",
        "    start_epoch = checkpoint['epoch']\n",
        "    best_val_acc = checkpoint.get('best_val_acc', 0.0)\n",
        "    print(f\"✅ Resumed at epoch {start_epoch}, best_val_acc: {best_val_acc:.4f}\")\n",
        "\n",
        "# -------------------------------\n",
        "# Training loop\n",
        "for epoch in range(start_epoch, num_epochs):\n",
        "    # ---- Train ----\n",
        "    model.train()\n",
        "    running_loss, correct, total = 0.0, 0, 0\n",
        "    loop = tqdm(train_loader, desc=f\"Epoch {epoch+1}/{num_epochs} [Train]\")\n",
        "    for images, labels in loop:\n",
        "        images, labels = images.to(device), labels.to(device)\n",
        "        optimizer.zero_grad()\n",
        "        if scaler is not None:\n",
        "            with torch.cuda.amp.autocast():\n",
        "                outputs = model(images)\n",
        "                loss = criterion(outputs, labels)\n",
        "            scaler.scale(loss).backward()\n",
        "            scaler.step(optimizer)\n",
        "            scaler.update()\n",
        "        else:\n",
        "            outputs = model(images)\n",
        "            loss = criterion(outputs, labels)\n",
        "            loss.backward()\n",
        "            optimizer.step()\n",
        "\n",
        "        running_loss += loss.item() * images.size(0)\n",
        "        preds = outputs.argmax(dim=1)\n",
        "        correct += (preds == labels).sum().item()\n",
        "        total += images.size(0)\n",
        "        loop.set_postfix(loss=running_loss/total, acc=100*correct/total)\n",
        "\n",
        "    train_loss = running_loss / len(train_loader.dataset)\n",
        "    train_acc = 100. * correct / total\n",
        "\n",
        "    # ---- Validation ----\n",
        "    model.eval()\n",
        "    val_loss, val_correct, val_total = 0.0, 0, 0\n",
        "    all_preds, all_labels = [], []\n",
        "    with torch.no_grad():\n",
        "        for images, labels in val_loader:\n",
        "            images, labels = images.to(device), labels.to(device)\n",
        "            outputs = model(images)\n",
        "            loss = criterion(outputs, labels)\n",
        "\n",
        "            val_loss += loss.item() * images.size(0)\n",
        "            preds = outputs.argmax(dim=1)\n",
        "            val_correct += (preds == labels).sum().item()\n",
        "            val_total += images.size(0)\n",
        "            all_preds.extend(preds.cpu().numpy())\n",
        "            all_labels.extend(labels.cpu().numpy())\n",
        "\n",
        "    val_loss /= len(val_loader.dataset)\n",
        "    val_acc = 100. * val_correct / val_total\n",
        "    val_macro_f1 = f1_score(all_labels, all_preds, average=\"macro\")\n",
        "    val_bal_acc = balanced_accuracy_score(all_labels, all_preds)\n",
        "\n",
        "    scheduler.step(val_acc)  # update LR scheduler\n",
        "\n",
        "    # ---- Save metrics ----\n",
        "    history[\"epoch\"].append(epoch+1)\n",
        "    history[\"train_loss\"].append(train_loss)\n",
        "    history[\"train_acc\"].append(train_acc)\n",
        "    history[\"val_loss\"].append(val_loss)\n",
        "    history[\"val_acc\"].append(val_acc)\n",
        "    history[\"val_macro_f1\"].append(val_macro_f1)\n",
        "    history[\"val_bal_acc\"].append(val_bal_acc)\n",
        "\n",
        "    print(f\"Epoch {epoch+1}/{num_epochs} | \"\n",
        "          f\"Train Loss: {train_loss:.4f}, Train Acc: {train_acc:.2f}% | \"\n",
        "          f\"Val Loss: {val_loss:.4f}, Val Acc: {val_acc:.2f}% | \"\n",
        "          f\"Macro-F1: {val_macro_f1:.4f}, Bal Acc: {val_bal_acc:.4f}\")\n",
        "\n",
        "    # ---- Save best model ----\n",
        "    if val_acc > best_val_acc:\n",
        "        best_val_acc = val_acc\n",
        "        best_model_wts = copy.deepcopy(model.state_dict())\n",
        "        torch.save(model.state_dict(), best_model_path)\n",
        "        print(f\"💾 Best model saved: {best_model_path}\")\n",
        "\n",
        "    # ---- Save checkpoint ----\n",
        "    torch.save({\n",
        "        \"epoch\": epoch+1,\n",
        "        \"model_state\": model.state_dict(),\n",
        "        \"optimizer_state\": optimizer.state_dict(),\n",
        "        \"history\": history,\n",
        "        \"best_val_acc\": best_val_acc\n",
        "    }, last_checkpoint_path)\n",
        "\n",
        "    pd.DataFrame(history).to_csv(csv_log_path, index=False)\n",
        "\n",
        "# -------------------------------\n",
        "# Load best weights\n",
        "model.load_state_dict(best_model_wts)\n",
        "print(\"✅ Training complete, best model loaded.\")\n"
      ],
      "metadata": {
        "colab": {
          "base_uri": "https://localhost:8080/",
          "height": 575
        },
        "id": "lMNsR15ugga-",
        "outputId": "b04ea533-a956-4421-cb73-a79f8ba07421"
      },
      "execution_count": 15,
      "outputs": [
        {
          "output_type": "stream",
          "name": "stdout",
          "text": [
            "Device: cpu\n",
            "Classes: ['ai', 'real']\n",
            "🔄 Resuming from /content/drive/MyDrive/synthbuster/checkpoints/cell4_2/last_checkpoint.pth\n"
          ]
        },
        {
          "output_type": "error",
          "ename": "UnpicklingError",
          "evalue": "Weights only load failed. This file can still be loaded, to do so you have two options, \u001b[1mdo those steps only if you trust the source of the checkpoint\u001b[0m. \n\t(1) In PyTorch 2.6, we changed the default value of the `weights_only` argument in `torch.load` from `False` to `True`. Re-running `torch.load` with `weights_only` set to `False` will likely succeed, but it can result in arbitrary code execution. Do it only if you got the file from a trusted source.\n\t(2) Alternatively, to load with `weights_only=True` please check the recommended steps in the following error message.\n\tWeightsUnpickler error: Unsupported global: GLOBAL numpy._core.multiarray.scalar was not an allowed global by default. Please use `torch.serialization.add_safe_globals([numpy._core.multiarray.scalar])` or the `torch.serialization.safe_globals([numpy._core.multiarray.scalar])` context manager to allowlist this global if you trust this class/function.\n\nCheck the documentation of torch.load to learn more about types accepted by default with weights_only https://pytorch.org/docs/stable/generated/torch.load.html.",
          "traceback": [
            "\u001b[0;31m---------------------------------------------------------------------------\u001b[0m",
            "\u001b[0;31mUnpicklingError\u001b[0m                           Traceback (most recent call last)",
            "\u001b[0;32m/tmp/ipython-input-3062105088.py\u001b[0m in \u001b[0;36m<cell line: 0>\u001b[0;34m()\u001b[0m\n\u001b[1;32m    100\u001b[0m \u001b[0;32mif\u001b[0m \u001b[0mos\u001b[0m\u001b[0;34m.\u001b[0m\u001b[0mpath\u001b[0m\u001b[0;34m.\u001b[0m\u001b[0mexists\u001b[0m\u001b[0;34m(\u001b[0m\u001b[0mlast_checkpoint_path\u001b[0m\u001b[0;34m)\u001b[0m\u001b[0;34m:\u001b[0m\u001b[0;34m\u001b[0m\u001b[0;34m\u001b[0m\u001b[0m\n\u001b[1;32m    101\u001b[0m     \u001b[0mprint\u001b[0m\u001b[0;34m(\u001b[0m\u001b[0;34mf\"🔄 Resuming from {last_checkpoint_path}\"\u001b[0m\u001b[0;34m)\u001b[0m\u001b[0;34m\u001b[0m\u001b[0;34m\u001b[0m\u001b[0m\n\u001b[0;32m--> 102\u001b[0;31m     \u001b[0mcheckpoint\u001b[0m \u001b[0;34m=\u001b[0m \u001b[0mtorch\u001b[0m\u001b[0;34m.\u001b[0m\u001b[0mload\u001b[0m\u001b[0;34m(\u001b[0m\u001b[0mlast_checkpoint_path\u001b[0m\u001b[0;34m,\u001b[0m \u001b[0mmap_location\u001b[0m\u001b[0;34m=\u001b[0m\u001b[0mdevice\u001b[0m\u001b[0;34m)\u001b[0m\u001b[0;34m\u001b[0m\u001b[0;34m\u001b[0m\u001b[0m\n\u001b[0m\u001b[1;32m    103\u001b[0m     \u001b[0mmodel\u001b[0m\u001b[0;34m.\u001b[0m\u001b[0mload_state_dict\u001b[0m\u001b[0;34m(\u001b[0m\u001b[0mcheckpoint\u001b[0m\u001b[0;34m[\u001b[0m\u001b[0;34m'model_state'\u001b[0m\u001b[0;34m]\u001b[0m\u001b[0;34m)\u001b[0m\u001b[0;34m\u001b[0m\u001b[0;34m\u001b[0m\u001b[0m\n\u001b[1;32m    104\u001b[0m     \u001b[0moptimizer\u001b[0m\u001b[0;34m.\u001b[0m\u001b[0mload_state_dict\u001b[0m\u001b[0;34m(\u001b[0m\u001b[0mcheckpoint\u001b[0m\u001b[0;34m[\u001b[0m\u001b[0;34m'optimizer_state'\u001b[0m\u001b[0;34m]\u001b[0m\u001b[0;34m)\u001b[0m\u001b[0;34m\u001b[0m\u001b[0;34m\u001b[0m\u001b[0m\n",
            "\u001b[0;32m/usr/local/lib/python3.12/dist-packages/torch/serialization.py\u001b[0m in \u001b[0;36mload\u001b[0;34m(f, map_location, pickle_module, weights_only, mmap, **pickle_load_args)\u001b[0m\n\u001b[1;32m   1527\u001b[0m                         )\n\u001b[1;32m   1528\u001b[0m                     \u001b[0;32mexcept\u001b[0m \u001b[0mpickle\u001b[0m\u001b[0;34m.\u001b[0m\u001b[0mUnpicklingError\u001b[0m \u001b[0;32mas\u001b[0m \u001b[0me\u001b[0m\u001b[0;34m:\u001b[0m\u001b[0;34m\u001b[0m\u001b[0;34m\u001b[0m\u001b[0m\n\u001b[0;32m-> 1529\u001b[0;31m                         \u001b[0;32mraise\u001b[0m \u001b[0mpickle\u001b[0m\u001b[0;34m.\u001b[0m\u001b[0mUnpicklingError\u001b[0m\u001b[0;34m(\u001b[0m\u001b[0m_get_wo_message\u001b[0m\u001b[0;34m(\u001b[0m\u001b[0mstr\u001b[0m\u001b[0;34m(\u001b[0m\u001b[0me\u001b[0m\u001b[0;34m)\u001b[0m\u001b[0;34m)\u001b[0m\u001b[0;34m)\u001b[0m \u001b[0;32mfrom\u001b[0m \u001b[0;32mNone\u001b[0m\u001b[0;34m\u001b[0m\u001b[0;34m\u001b[0m\u001b[0m\n\u001b[0m\u001b[1;32m   1530\u001b[0m                 return _load(\n\u001b[1;32m   1531\u001b[0m                     \u001b[0mopened_zipfile\u001b[0m\u001b[0;34m,\u001b[0m\u001b[0;34m\u001b[0m\u001b[0;34m\u001b[0m\u001b[0m\n",
            "\u001b[0;31mUnpicklingError\u001b[0m: Weights only load failed. This file can still be loaded, to do so you have two options, \u001b[1mdo those steps only if you trust the source of the checkpoint\u001b[0m. \n\t(1) In PyTorch 2.6, we changed the default value of the `weights_only` argument in `torch.load` from `False` to `True`. Re-running `torch.load` with `weights_only` set to `False` will likely succeed, but it can result in arbitrary code execution. Do it only if you got the file from a trusted source.\n\t(2) Alternatively, to load with `weights_only=True` please check the recommended steps in the following error message.\n\tWeightsUnpickler error: Unsupported global: GLOBAL numpy._core.multiarray.scalar was not an allowed global by default. Please use `torch.serialization.add_safe_globals([numpy._core.multiarray.scalar])` or the `torch.serialization.safe_globals([numpy._core.multiarray.scalar])` context manager to allowlist this global if you trust this class/function.\n\nCheck the documentation of torch.load to learn more about types accepted by default with weights_only https://pytorch.org/docs/stable/generated/torch.load.html."
          ]
        }
      ]
    },
    {
      "cell_type": "code",
      "source": [],
      "metadata": {
        "colab": {
          "base_uri": "https://localhost:8080/",
          "height": 1000
        },
        "id": "GNqQRih8hmTD",
        "outputId": "3f931402-fef2-4e71-b743-c66b7b0de0ff"
      },
      "execution_count": 13,
      "outputs": [
        {
          "output_type": "stream",
          "name": "stderr",
          "text": [
            "/usr/local/lib/python3.12/dist-packages/torch/utils/data/dataloader.py:666: UserWarning: 'pin_memory' argument is set as true but no accelerator is found, then device pinned memory won't be used.\n",
            "  warnings.warn(warn_msg)\n"
          ]
        },
        {
          "output_type": "stream",
          "name": "stdout",
          "text": [
            "Classes: ['ai', 'real']\n",
            "Classification Report:\n",
            "\n",
            "              precision    recall  f1-score   support\n",
            "\n",
            "          ai       0.89      0.89      0.89       200\n",
            "        real       0.89      0.89      0.89       200\n",
            "\n",
            "    accuracy                           0.89       400\n",
            "   macro avg       0.89      0.89      0.89       400\n",
            "weighted avg       0.89      0.89      0.89       400\n",
            "\n"
          ]
        },
        {
          "output_type": "display_data",
          "data": {
            "text/plain": [
              "<Figure size 600x500 with 2 Axes>"
            ],
            "image/png": "[encoded data removed]"
          },
          "metadata": {}
        },
        {
          "output_type": "display_data",
          "data": {
            "text/plain": [
              "<Figure size 1400x500 with 2 Axes>"
            ],
            "image/png": "[encoded data removed]"
          },
          "metadata": {}
        },
        {
          "output_type": "stream",
          "name": "stdout",
          "text": [
            "Artifacts saved under: /content/drive/MyDrive/synthbuster/checkpoints/cell4_2\n",
            "Best model: /content/drive/MyDrive/synthbuster/checkpoints/cell4_2/best_model.pth\n",
            "Last checkpoint: /content/drive/MyDrive/synthbuster/checkpoints/cell4_2/last_checkpoint.pth\n",
            "History: /content/drive/MyDrive/synthbuster/checkpoints/cell4_2/history.pth\n"
          ]
        }
      ]
    },
    {
      "cell_type": "code",
      "source": [
        "# Again Cell 4_2 with 🔥 Improved Training with Augmentation + Label Smoothing + Two-LR Optimizer + Scheduler and Epochs=20\n",
        "\n",
        "import torch\n",
        "import torch.nn as nn\n",
        "import torch.optim as optim\n",
        "from torch.utils.data import DataLoader, WeightedRandomSampler\n",
        "from torchvision import datasets, transforms\n",
        "from collections import Counter\n",
        "from tqdm import tqdm\n",
        "from sklearn.metrics import f1_score, balanced_accuracy_score, classification_report, confusion_matrix\n",
        "import pandas as pd\n",
        "import seaborn as sns\n",
        "import matplotlib.pyplot as plt\n",
        "import os, copy\n",
        "\n",
        "# -------------------------------\n",
        "# Paths\n",
        "save_dir = \"/content/drive/MyDrive/synthbuster/checkpoints/cell4_2\"\n",
        "os.makedirs(save_dir, exist_ok=True)\n",
        "\n",
        "best_model_path = os.path.join(save_dir, \"best_model.pth\")\n",
        "last_checkpoint_path = os.path.join(save_dir, \"last_checkpoint.pth\")\n",
        "history_path = os.path.join(save_dir, \"history.pth\")\n",
        "csv_log_path = os.path.join(save_dir, \"training_log.csv\")\n",
        "\n",
        "# -------------------------------\n",
        "# Device\n",
        "device = torch.device(\"cuda\" if torch.cuda.is_available() else \"cpu\")\n",
        "print(\"Device:\", device)\n",
        "\n",
        "# -------------------------------\n",
        "# Data transforms (aug for train, simple for val)\n",
        "train_transform = transforms.Compose([\n",
        "    transforms.RandomResizedCrop(256, scale=(0.8, 1.0)),\n",
        "    transforms.RandomHorizontalFlip(),\n",
        "    transforms.ColorJitter(0.2, 0.2, 0.2, 0.05),\n",
        "    transforms.RandomGrayscale(p=0.02),\n",
        "    transforms.ToTensor(),\n",
        "    transforms.RandomErasing(p=0.2, scale=(0.02,0.2), ratio=(0.3,3.3)),\n",
        "    transforms.Normalize([0.5,0.5,0.5],[0.5,0.5,0.5])\n",
        "])\n",
        "\n",
        "val_transform = transforms.Compose([\n",
        "    transforms.Resize((256,256)),\n",
        "    transforms.ToTensor(),\n",
        "    transforms.Normalize([0.5,0.5,0.5],[0.5,0.5,0.5])\n",
        "])\n",
        "\n",
        "# Reload datasets with transforms\n",
        "train_dataset = datasets.ImageFolder(root=\"/content/drive/MyDrive/synthbuster/train\", transform=train_transform)\n",
        "val_dataset   = datasets.ImageFolder(root=\"/content/drive/MyDrive/synthbuster/test\", transform=val_transform)\n",
        "\n",
        "# WeightedRandomSampler for imbalance\n",
        "targets = [s[1] for s in train_dataset.samples]\n",
        "counts = Counter(targets)\n",
        "class_weights = {cls: 1.0 / count for cls, count in counts.items()}\n",
        "sample_weights = [class_weights[t] for t in targets]\n",
        "sampler = WeightedRandomSampler(sample_weights, num_samples=len(sample_weights), replacement=True)\n",
        "\n",
        "batch_size = 32\n",
        "train_loader = DataLoader(train_dataset, batch_size=batch_size, sampler=sampler, num_workers=2, pin_memory=True)\n",
        "val_loader   = DataLoader(val_dataset, batch_size=batch_size, shuffle=False, num_workers=2, pin_memory=True)\n",
        "\n",
        "classes = train_dataset.classes\n",
        "print(\"Classes:\", classes)\n",
        "\n",
        "# -------------------------------\n",
        "# Loss (with label smoothing)\n",
        "criterion = nn.CrossEntropyLoss(label_smoothing=0.1)\n",
        "\n",
        "# Two-LR optimizer (backbone slower, classifier faster)\n",
        "backbone_params, head_params = [], []\n",
        "for name, p in model.named_parameters():\n",
        "    if \"classifier\" in name or \"head\" in name:\n",
        "        head_params.append(p)\n",
        "    else:\n",
        "        backbone_params.append(p)\n",
        "\n",
        "optimizer = optim.AdamW([\n",
        "    {'params': backbone_params, 'lr': 5e-5},\n",
        "    {'params': head_params, 'lr': 2e-4}\n",
        "], weight_decay=1e-4)\n",
        "\n",
        "# LR scheduler (reduce if val_acc plateaus)\n",
        "scheduler = optim.lr_scheduler.ReduceLROnPlateau(optimizer, mode='max', factor=0.5, patience=2)\n",
        "\n",
        "# Mixed precision\n",
        "scaler = torch.cuda.amp.GradScaler() if torch.cuda.is_available() else None\n",
        "\n",
        "# -------------------------------\n",
        "# Training state\n",
        "start_epoch = 0\n",
        "num_epochs = 20\n",
        "best_val_acc = 0.0\n",
        "history = {\"epoch\": [], \"train_loss\": [], \"train_acc\": [],\n",
        "           \"val_loss\": [], \"val_acc\": [], \"val_macro_f1\": [], \"val_bal_acc\": []}\n",
        "best_model_wts = copy.deepcopy(model.state_dict())\n",
        "\n",
        "# Resume checkpoint if exists\n",
        "if os.path.exists(last_checkpoint_path):\n",
        "    print(f\"🔄 Resuming from {last_checkpoint_path}\")\n",
        "    # To load the full checkpoint dictionary (model, optimizer, history, etc.) just like before PyTorch 2.6\n",
        "    checkpoint = torch.load(last_checkpoint_path, map_location=device, weights_only=False)\n",
        "    model.load_state_dict(checkpoint['model_state'])\n",
        "    optimizer.load_state_dict(checkpoint['optimizer_state'])\n",
        "    history = checkpoint['history']\n",
        "    start_epoch = checkpoint['epoch']\n",
        "    best_val_acc = checkpoint.get('best_val_acc', 0.0)\n",
        "    print(f\"✅ Resumed at epoch {start_epoch}, best_val_acc: {best_val_acc:.4f}\")\n",
        "\n",
        "# -------------------------------\n",
        "# Training loop\n",
        "for epoch in range(start_epoch, num_epochs):\n",
        "    # ---- Train ----\n",
        "    model.train()\n",
        "    running_loss, correct, total = 0.0, 0, 0\n",
        "    loop = tqdm(train_loader, desc=f\"Epoch {epoch+1}/{num_epochs} [Train]\")\n",
        "    for images, labels in loop:\n",
        "        images, labels = images.to(device), labels.to(device)\n",
        "        optimizer.zero_grad()\n",
        "        if scaler is not None:\n",
        "            with torch.cuda.amp.autocast():\n",
        "                outputs = model(images)\n",
        "                loss = criterion(outputs, labels)\n",
        "            scaler.scale(loss).backward()\n",
        "            scaler.step(optimizer)\n",
        "            scaler.update()\n",
        "        else:\n",
        "            outputs = model(images)\n",
        "            loss = criterion(outputs, labels)\n",
        "            loss.backward()\n",
        "            optimizer.step()\n",
        "\n",
        "        running_loss += loss.item() * images.size(0)\n",
        "        preds = outputs.argmax(dim=1)\n",
        "        correct += (preds == labels).sum().item()\n",
        "        total += images.size(0)\n",
        "        loop.set_postfix(loss=running_loss/total, acc=100*correct/total)\n",
        "\n",
        "    train_loss = running_loss / len(train_loader.dataset)\n",
        "    train_acc = 100. * correct / total\n",
        "\n",
        "    # ---- Validation ----\n",
        "    model.eval()\n",
        "    val_loss, val_correct, val_total = 0.0, 0, 0\n",
        "    all_preds, all_labels = [], []\n",
        "    with torch.no_grad():\n",
        "        for images, labels in val_loader:\n",
        "            images, labels = images.to(device), labels.to(device)\n",
        "            outputs = model(images)\n",
        "            loss = criterion(outputs, labels)\n",
        "\n",
        "            val_loss += loss.item() * images.size(0)\n",
        "            preds = outputs.argmax(dim=1)\n",
        "            val_correct += (preds == labels).sum().item()\n",
        "            val_total += images.size(0)\n",
        "            all_preds.extend(preds.cpu().numpy())\n",
        "            all_labels.extend(labels.cpu().numpy())\n",
        "\n",
        "    val_loss /= len(val_loader.dataset)\n",
        "    val_acc = 100. * val_correct / val_total\n",
        "    val_macro_f1 = f1_score(all_labels, all_preds, average=\"macro\")\n",
        "    val_bal_acc = balanced_accuracy_score(all_labels, all_preds)\n",
        "\n",
        "    scheduler.step(val_acc)  # update LR scheduler\n",
        "\n",
        "    # ---- Save metrics ----\n",
        "    history[\"epoch\"].append(epoch+1)\n",
        "    history[\"train_loss\"].append(train_loss)\n",
        "    history[\"train_acc\"].append(train_acc)\n",
        "    history[\"val_loss\"].append(val_loss)\n",
        "    history[\"val_acc\"].append(val_acc)\n",
        "    history[\"val_macro_f1\"].append(val_macro_f1)\n",
        "    history[\"val_bal_acc\"].append(val_bal_acc)\n",
        "\n",
        "    print(f\"Epoch {epoch+1}/{num_epochs} | \"\n",
        "          f\"Train Loss: {train_loss:.4f}, Train Acc: {train_acc:.2f}% | \"\n",
        "          f\"Val Loss: {val_loss:.4f}, Val Acc: {val_acc:.2f}% | \"\n",
        "          f\"Macro-F1: {val_macro_f1:.4f}, Bal Acc: {val_bal_acc:.4f}\")\n",
        "\n",
        "    # ---- Save best model ----\n",
        "    if val_acc > best_val_acc:\n",
        "        best_val_acc = val_acc\n",
        "        best_model_wts = copy.deepcopy(model.state_dict())\n",
        "        torch.save(model.state_dict(), best_model_path)\n",
        "        print(f\"💾 Best model saved: {best_model_path}\")\n",
        "\n",
        "    # ---- Save checkpoint ----\n",
        "    torch.save({\n",
        "        \"epoch\": epoch+1,\n",
        "        \"model_state\": model.state_dict(),\n",
        "        \"optimizer_state\": optimizer.state_dict(),\n",
        "        \"history\": history,\n",
        "        \"best_val_acc\": best_val_acc\n",
        "    }, last_checkpoint_path)\n",
        "\n",
        "    pd.DataFrame(history).to_csv(csv_log_path, index=False)\n",
        "\n",
        "# -------------------------------\n",
        "# Load best weights\n",
        "model.load_state_dict(best_model_wts)\n",
        "print(\"✅ Training complete, best model loaded.\")\n"
      ],
      "metadata": {
        "colab": {
          "base_uri": "https://localhost:8080/"
        },
        "id": "Q3DGP1DcqY7l",
        "outputId": "39e286f4-477e-4c6e-8804-f7b623e83486"
      },
      "execution_count": 19,
      "outputs": [
        {
          "output_type": "stream",
          "name": "stdout",
          "text": [
            "Device: cpu\n",
            "Classes: ['ai', 'real']\n",
            "🔄 Resuming from /content/drive/MyDrive/synthbuster/checkpoints/cell4_2/last_checkpoint.pth\n",
            "✅ Resumed at epoch 10, best_val_acc: 89.0000\n"
          ]
        },
        {
          "output_type": "stream",
          "name": "stderr",
          "text": [
            "Epoch 11/20 [Train]: 100%|██████████| 50/50 [16:32<00:00, 19.85s/it, acc=88.6, loss=0.391]\n"
          ]
        },
        {
          "output_type": "stream",
          "name": "stdout",
          "text": [
            "Epoch 11/20 | Train Loss: 0.3909, Train Acc: 88.56% | Val Loss: 0.3870, Val Acc: 87.25% | Macro-F1: 0.8722, Bal Acc: 0.8725\n"
          ]
        },
        {
          "output_type": "stream",
          "name": "stderr",
          "text": [
            "\rEpoch 12/20 [Train]:   0%|          | 0/50 [00:00<?, ?it/s]/usr/local/lib/python3.12/dist-packages/torch/utils/data/dataloader.py:666: UserWarning: 'pin_memory' argument is set as true but no accelerator is found, then device pinned memory won't be used.\n",
            "  warnings.warn(warn_msg)\n",
            "Epoch 12/20 [Train]: 100%|██████████| 50/50 [17:23<00:00, 20.88s/it, acc=89.5, loss=0.374]\n"
          ]
        },
        {
          "output_type": "stream",
          "name": "stdout",
          "text": [
            "Epoch 12/20 | Train Loss: 0.3738, Train Acc: 89.49% | Val Loss: 0.3718, Val Acc: 90.00% | Macro-F1: 0.9000, Bal Acc: 0.9000\n",
            "💾 Best model saved: /content/drive/MyDrive/synthbuster/checkpoints/cell4_2/best_model.pth\n"
          ]
        },
        {
          "output_type": "stream",
          "name": "stderr",
          "text": [
            "\rEpoch 13/20 [Train]:   0%|          | 0/50 [00:00<?, ?it/s]/usr/local/lib/python3.12/dist-packages/torch/utils/data/dataloader.py:666: UserWarning: 'pin_memory' argument is set as true but no accelerator is found, then device pinned memory won't be used.\n",
            "  warnings.warn(warn_msg)\n",
            "Epoch 13/20 [Train]: 100%|██████████| 50/50 [17:07<00:00, 20.56s/it, acc=90, loss=0.369]\n"
          ]
        },
        {
          "output_type": "stream",
          "name": "stdout",
          "text": [
            "Epoch 13/20 | Train Loss: 0.3687, Train Acc: 89.99% | Val Loss: 0.3733, Val Acc: 89.50% | Macro-F1: 0.8950, Bal Acc: 0.8950\n"
          ]
        },
        {
          "output_type": "stream",
          "name": "stderr",
          "text": [
            "\rEpoch 14/20 [Train]:   0%|          | 0/50 [00:00<?, ?it/s]/usr/local/lib/python3.12/dist-packages/torch/utils/data/dataloader.py:666: UserWarning: 'pin_memory' argument is set as true but no accelerator is found, then device pinned memory won't be used.\n",
            "  warnings.warn(warn_msg)\n",
            "Epoch 14/20 [Train]: 100%|██████████| 50/50 [17:06<00:00, 20.53s/it, acc=90.7, loss=0.354]\n"
          ]
        },
        {
          "output_type": "stream",
          "name": "stdout",
          "text": [
            "Epoch 14/20 | Train Loss: 0.3543, Train Acc: 90.68% | Val Loss: 0.3694, Val Acc: 88.75% | Macro-F1: 0.8874, Bal Acc: 0.8875\n"
          ]
        },
        {
          "output_type": "stream",
          "name": "stderr",
          "text": [
            "\rEpoch 15/20 [Train]:   0%|          | 0/50 [00:00<?, ?it/s]/usr/local/lib/python3.12/dist-packages/torch/utils/data/dataloader.py:666: UserWarning: 'pin_memory' argument is set as true but no accelerator is found, then device pinned memory won't be used.\n",
            "  warnings.warn(warn_msg)\n",
            "Epoch 15/20 [Train]: 100%|██████████| 50/50 [17:09<00:00, 20.59s/it, acc=91.7, loss=0.343]\n"
          ]
        },
        {
          "output_type": "stream",
          "name": "stdout",
          "text": [
            "Epoch 15/20 | Train Loss: 0.3434, Train Acc: 91.68% | Val Loss: 0.3653, Val Acc: 89.75% | Macro-F1: 0.8975, Bal Acc: 0.8975\n"
          ]
        },
        {
          "output_type": "stream",
          "name": "stderr",
          "text": [
            "\rEpoch 16/20 [Train]:   0%|          | 0/50 [00:00<?, ?it/s]/usr/local/lib/python3.12/dist-packages/torch/utils/data/dataloader.py:666: UserWarning: 'pin_memory' argument is set as true but no accelerator is found, then device pinned memory won't be used.\n",
            "  warnings.warn(warn_msg)\n",
            "Epoch 16/20 [Train]: 100%|██████████| 50/50 [17:14<00:00, 20.68s/it, acc=91.6, loss=0.348]\n"
          ]
        },
        {
          "output_type": "stream",
          "name": "stdout",
          "text": [
            "Epoch 16/20 | Train Loss: 0.3482, Train Acc: 91.56% | Val Loss: 0.3629, Val Acc: 90.25% | Macro-F1: 0.9025, Bal Acc: 0.9025\n",
            "💾 Best model saved: /content/drive/MyDrive/synthbuster/checkpoints/cell4_2/best_model.pth\n"
          ]
        },
        {
          "output_type": "stream",
          "name": "stderr",
          "text": [
            "\rEpoch 17/20 [Train]:   0%|          | 0/50 [00:00<?, ?it/s]/usr/local/lib/python3.12/dist-packages/torch/utils/data/dataloader.py:666: UserWarning: 'pin_memory' argument is set as true but no accelerator is found, then device pinned memory won't be used.\n",
            "  warnings.warn(warn_msg)\n",
            "Epoch 17/20 [Train]: 100%|██████████| 50/50 [17:15<00:00, 20.71s/it, acc=91.5, loss=0.345]\n"
          ]
        },
        {
          "output_type": "stream",
          "name": "stdout",
          "text": [
            "Epoch 17/20 | Train Loss: 0.3447, Train Acc: 91.49% | Val Loss: 0.3631, Val Acc: 90.25% | Macro-F1: 0.9025, Bal Acc: 0.9025\n"
          ]
        },
        {
          "output_type": "stream",
          "name": "stderr",
          "text": [
            "\rEpoch 18/20 [Train]:   0%|          | 0/50 [00:00<?, ?it/s]/usr/local/lib/python3.12/dist-packages/torch/utils/data/dataloader.py:666: UserWarning: 'pin_memory' argument is set as true but no accelerator is found, then device pinned memory won't be used.\n",
            "  warnings.warn(warn_msg)\n",
            "Epoch 18/20 [Train]: 100%|██████████| 50/50 [16:55<00:00, 20.30s/it, acc=93.2, loss=0.329]\n"
          ]
        },
        {
          "output_type": "stream",
          "name": "stdout",
          "text": [
            "Epoch 18/20 | Train Loss: 0.3293, Train Acc: 93.25% | Val Loss: 0.3627, Val Acc: 90.00% | Macro-F1: 0.9000, Bal Acc: 0.9000\n"
          ]
        },
        {
          "output_type": "stream",
          "name": "stderr",
          "text": [
            "\rEpoch 19/20 [Train]:   0%|          | 0/50 [00:00<?, ?it/s]/usr/local/lib/python3.12/dist-packages/torch/utils/data/dataloader.py:666: UserWarning: 'pin_memory' argument is set as true but no accelerator is found, then device pinned memory won't be used.\n",
            "  warnings.warn(warn_msg)\n",
            "Epoch 19/20 [Train]: 100%|██████████| 50/50 [17:28<00:00, 20.97s/it, acc=93.2, loss=0.325]\n"
          ]
        },
        {
          "output_type": "stream",
          "name": "stdout",
          "text": [
            "Epoch 19/20 | Train Loss: 0.3250, Train Acc: 93.18% | Val Loss: 0.3619, Val Acc: 90.50% | Macro-F1: 0.9050, Bal Acc: 0.9050\n",
            "💾 Best model saved: /content/drive/MyDrive/synthbuster/checkpoints/cell4_2/best_model.pth\n"
          ]
        },
        {
          "output_type": "stream",
          "name": "stderr",
          "text": [
            "\rEpoch 20/20 [Train]:   0%|          | 0/50 [00:00<?, ?it/s]/usr/local/lib/python3.12/dist-packages/torch/utils/data/dataloader.py:666: UserWarning: 'pin_memory' argument is set as true but no accelerator is found, then device pinned memory won't be used.\n",
            "  warnings.warn(warn_msg)\n",
            "Epoch 20/20 [Train]: 100%|██████████| 50/50 [17:01<00:00, 20.42s/it, acc=93.2, loss=0.326]\n"
          ]
        },
        {
          "output_type": "stream",
          "name": "stdout",
          "text": [
            "Epoch 20/20 | Train Loss: 0.3262, Train Acc: 93.18% | Val Loss: 0.3597, Val Acc: 90.25% | Macro-F1: 0.9025, Bal Acc: 0.9025\n",
            "✅ Training complete, best model loaded.\n"
          ]
        }
      ]
    },
    {
      "cell_type": "code",
      "source": [
        "# Colab cell 5: evaluate on validation set, print classification report + confusion matrix + training plots\n",
        "import numpy as np\n",
        "from sklearn.metrics import classification_report, confusion_matrix\n",
        "import matplotlib.pyplot as plt\n",
        "import seaborn as sns\n",
        "\n",
        "model.eval()\n",
        "all_preds, all_labels = [], []\n",
        "with torch.no_grad():\n",
        "    for images, labels in val_loader:\n",
        "        images = images.to(device); labels = labels.to(device)\n",
        "        outputs = model(images)\n",
        "        preds = outputs.argmax(dim=1)\n",
        "        all_preds.extend(preds.cpu().numpy())\n",
        "        all_labels.extend(labels.cpu().numpy())\n",
        "\n",
        "classes = train_dataset.classes\n",
        "print(\"Classes:\", classes)\n",
        "print(\"Classification Report:\\n\")\n",
        "print(classification_report(all_labels, all_preds, target_names=classes))\n",
        "\n",
        "cm = confusion_matrix(all_labels, all_preds)\n",
        "plt.figure(figsize=(6,5))\n",
        "sns.heatmap(cm, annot=True, fmt=\"d\", cmap=\"Blues\", xticklabels=classes, yticklabels=classes)\n",
        "plt.xlabel(\"Predicted\")\n",
        "plt.ylabel(\"True\")\n",
        "plt.title(\"Confusion Matrix\")\n",
        "plt.show()\n",
        "\n",
        "# Plot history saved in CSV or variable\n",
        "import pandas as pd\n",
        "hist = pd.read_csv(csv_log_path) if os.path.exists(csv_log_path) else pd.DataFrame(history)\n",
        "epochs = hist['epoch'].tolist()\n",
        "\n",
        "plt.figure(figsize=(14,5))\n",
        "plt.subplot(1,2,1)\n",
        "plt.plot(epochs, hist['train_loss'], marker='o', label='Train Loss')\n",
        "plt.plot(epochs, hist['val_loss'],   marker='o', label='Val Loss')\n",
        "plt.title(\"Loss\")\n",
        "plt.xlabel(\"Epoch\"); plt.ylabel(\"Loss\"); plt.legend(); plt.grid(True)\n",
        "\n",
        "plt.subplot(1,2,2)\n",
        "plt.plot(epochs, hist['train_acc'], marker='o', label='Train Acc')\n",
        "plt.plot(epochs, hist['val_acc'],   marker='o', label='Val Acc')\n",
        "plt.plot(epochs, hist['val_macro_f1'], marker='x', label='Val Macro-F1')\n",
        "plt.plot(epochs, hist['val_bal_acc'], marker='x', label='Val Bal Acc')\n",
        "plt.title(\"Accuracy / F1\")\n",
        "plt.xlabel(\"Epoch\"); plt.ylabel(\"Score\"); plt.legend(); plt.grid(True)\n",
        "plt.tight_layout()\n",
        "plt.show()\n",
        "\n",
        "print(\"Artifacts saved under:\", save_dir)\n",
        "print(\"Best model:\", best_model_path)\n",
        "print(\"Last checkpoint:\", last_checkpoint_path)\n",
        "print(\"History:\", history_path)"
      ],
      "metadata": {
        "colab": {
          "base_uri": "https://localhost:8080/",
          "height": 1000
        },
        "id": "721bNrgxyMhf",
        "outputId": "c28b3d1b-0b6a-49fb-a595-0f1611ebe8d9"
      },
      "execution_count": 20,
      "outputs": [
        {
          "output_type": "stream",
          "name": "stderr",
          "text": [
            "/usr/local/lib/python3.12/dist-packages/torch/utils/data/dataloader.py:666: UserWarning: 'pin_memory' argument is set as true but no accelerator is found, then device pinned memory won't be used.\n",
            "  warnings.warn(warn_msg)\n"
          ]
        },
        {
          "output_type": "stream",
          "name": "stdout",
          "text": [
            "Classes: ['ai', 'real']\n",
            "Classification Report:\n",
            "\n",
            "              precision    recall  f1-score   support\n",
            "\n",
            "          ai       0.89      0.92      0.91       200\n",
            "        real       0.92      0.89      0.90       200\n",
            "\n",
            "    accuracy                           0.91       400\n",
            "   macro avg       0.91      0.91      0.90       400\n",
            "weighted avg       0.91      0.91      0.90       400\n",
            "\n"
          ]
        },
        {
          "output_type": "display_data",
          "data": {
            "text/plain": [
              "<Figure size 600x500 with 2 Axes>"
            ],
            "image/png": "[encoded data removed]"
          },
          "metadata": {}
        },
        {
          "output_type": "display_data",
          "data": {
            "text/plain": [
              "<Figure size 1400x500 with 2 Axes>"
            ],
            "image/png": "[encoded data removed]"
          },
          "metadata": {}
        },
        {
          "output_type": "stream",
          "name": "stdout",
          "text": [
            "Artifacts saved under: /content/drive/MyDrive/synthbuster/checkpoints/cell4_2\n",
            "Best model: /content/drive/MyDrive/synthbuster/checkpoints/cell4_2/best_model.pth\n",
            "Last checkpoint: /content/drive/MyDrive/synthbuster/checkpoints/cell4_2/last_checkpoint.pth\n",
            "History: /content/drive/MyDrive/synthbuster/checkpoints/cell4_2/history.pth\n"
          ]
        }
      ]
    }
  ]
}